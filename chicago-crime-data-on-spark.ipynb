{
 "cells": [
  {
   "cell_type": "markdown",
   "metadata": {},
   "source": [
    "# Chicago crime dataset analysis\n",
    "---\n",
    "\n",
    "This notebook is a Spark and Python learner's to perform data analysis on some real-world data set.\n",
    "\n",
    "In this notebook, I am capriciously using Spark, Pandas, Matplotlib, Seaborn without any meaningful distinction of purpose. The point is:\n",
    "\n",
    " * Perform data reading, transforming, and querying using Apache Spark\n",
    " * Visualize using existing Python libraries. Matplotlib will remain when I know to do with it all that I'm currenly using Seaborn for.\n",
    " * Where interoperation between Spark and Matplotlib is a hindrance, I use Pandas and Numpy.\n",
    " \n",
    "This will be evolutionary and I hope that a few weeks from now, it will look much better."
   ]
  },
  {
   "cell_type": "markdown",
   "metadata": {},
   "source": [
    "---\n",
    "\n",
    "# How to run this and what to run it on?\n",
    "\n",
    "---\n",
    "\n",
    "I wrote this on Apache Spark 2.3.0. The entire notebook was executed on a single machine using the `pyspark` shell without problems.\n",
    "\n",
    "Here are some important parameters:\n",
    "\n",
    " * Executor count: 4\n",
    " * Executor Memory: 4G\n",
    " * Driver Memory: 8G\n",
    " \n",
    "This may not be necessary, but some data frames are being cached and performance degrades remarkably when the percentage of cached RDDs drops.\n",
    "\n",
    "So, the command with which the notebook was launched is:\n",
    "\n",
    "```\n",
    "pyspark --driver-memory 8g --executor-memory 4g --master local[4]\n",
    "```"
   ]
  },
  {
   "cell_type": "markdown",
   "metadata": {},
   "source": [
    "---\n",
    "\n",
    "## Get Imports out of the way\n",
    "\n"
   ]
  },
  {
   "cell_type": "markdown",
   "metadata": {},
   "source": [
    "Spark imports"
   ]
  },
  {
   "cell_type": "code",
   "execution_count": 399,
   "metadata": {},
   "outputs": [],
   "source": [
    "## spark imports\n",
    "from pyspark.sql import Row, SparkSession\n",
    "from pyspark.sql.functions import *"
   ]
  },
  {
   "cell_type": "markdown",
   "metadata": {},
   "source": [
    "Standard python data analysis imports"
   ]
  },
  {
   "cell_type": "code",
   "execution_count": null,
   "metadata": {},
   "outputs": [],
   "source": [
    "## standard imports\n",
    "import numpy as np\n",
    "import pandas as pd\n",
    "import seaborn as sns\n",
    "import matplotlib.pyplot as plt"
   ]
  },
  {
   "cell_type": "markdown",
   "metadata": {},
   "source": [
    "Jupyter visualization options"
   ]
  },
  {
   "cell_type": "code",
   "execution_count": 398,
   "metadata": {},
   "outputs": [],
   "source": [
    "%matplotlib inline\n",
    "\n",
    "#Not too sure the following 2 work. This is a TODO\n",
    "sns.set_color_codes(\"pastel\")\n",
    "plt.rcParams[\"figure.figsize\"] = [20, 8]"
   ]
  },
  {
   "cell_type": "markdown",
   "metadata": {},
   "source": [
    "---\n",
    "## Dataset information\n",
    "\n",
    "First, clean the headers. This is just for nice presentation of headers. Having valid data frame field names that conform to Python identifier rules is good. I personally prefer that as it's always helpful to use the dot notation in many places.\n",
    "\n",
    "These are the column names, as pulled from the Kaggle dataset page [here](https://www.kaggle.com/djonafegnem/chicago-crime-data-analysis)"
   ]
  },
  {
   "cell_type": "code",
   "execution_count": 2,
   "metadata": {},
   "outputs": [],
   "source": [
    "content_cols = '''\n",
    "ID - Unique identifier for the record.\n",
    "Case Number - The Chicago Police Department RD Number (Records Division Number), which is unique to the incident.\n",
    "Date - Date when the incident occurred. this is sometimes a best estimate.\n",
    "Block - The partially redacted address where the incident occurred, placing it on the same block as the actual address.\n",
    "IUCR - The Illinois Unifrom Crime Reporting code. This is directly linked to the Primary Type and Description. See the list of IUCR codes at https://data.cityofchicago.org/d/c7ck-438e.\n",
    "Primary Type - The primary description of the IUCR code.\n",
    "Description - The secondary description of the IUCR code, a subcategory of the primary description.\n",
    "Location Description - Description of the location where the incident occurred.\n",
    "Arrest - Indicates whether an arrest was made.\n",
    "Domestic - Indicates whether the incident was domestic-related as defined by the Illinois Domestic Violence Act.\n",
    "Beat - Indicates the beat where the incident occurred. A beat is the smallest police geographic area – each beat has a dedicated police beat car. Three to five beats make up a police sector, and three sectors make up a police district. The Chicago Police Department has 22 police districts. See the beats at https://data.cityofchicago.org/d/aerh-rz74.\n",
    "District - Indicates the police district where the incident occurred. See the districts at https://data.cityofchicago.org/d/fthy-xz3r.\n",
    "Ward - The ward (City Council district) where the incident occurred. See the wards at https://data.cityofchicago.org/d/sp34-6z76.\n",
    "Community Area - Indicates the community area where the incident occurred. Chicago has 77 community areas. See the community areas at https://data.cityofchicago.org/d/cauq-8yn6.\n",
    "FBI Code - Indicates the crime classification as outlined in the FBI's National Incident-Based Reporting System (NIBRS). See the Chicago Police Department listing of these classifications at http://gis.chicagopolice.org/clearmap_crime_sums/crime_types.html.\n",
    "X Coordinate - The x coordinate of the location where the incident occurred in State Plane Illinois East NAD 1983 projection. This location is shifted from the actual location for partial redaction but falls on the same block.\n",
    "Y Coordinate - The y coordinate of the location where the incident occurred in State Plane Illinois East NAD 1983 projection. This location is shifted from the actual location for partial redaction but falls on the same block.\n",
    "Year - Year the incident occurred.\n",
    "Updated On - Date and time the record was last updated.\n",
    "Latitude - The latitude of the location where the incident occurred. This location is shifted from the actual location for partial redaction but falls on the same block.\n",
    "Longitude - The longitude of the location where the incident occurred. This location is shifted from the actual location for partial redaction but falls on the same block.\n",
    "Location - The location where the incident occurred in a format that allows for creation of maps and other geographic operations on this data portal. This location is shifted from the actual location for partial redaction but falls on the same block.'''"
   ]
  },
  {
   "cell_type": "code",
   "execution_count": 400,
   "metadata": {},
   "outputs": [],
   "source": [
    "def entry_dic(line):\n",
    "    \"\"\"\n",
    "    Convert a header - description line into a single dictionary that holds the original header as 'title', a corresponding field name as 'header', and a description.\n",
    "    \"\"\"\n",
    "    pair = line.split(' - ')\n",
    "    return {'title': pair[0], 'description': pair[1], 'header': pair[0].lower().replace(' ', '_')}"
   ]
  },
  {
   "cell_type": "markdown",
   "metadata": {},
   "source": [
    "Turn a list of headers to a list of dictionaries produced by the above function"
   ]
  },
  {
   "cell_type": "code",
   "execution_count": 4,
   "metadata": {},
   "outputs": [],
   "source": [
    "header_dics = list(map(entry_dic, list(filter(lambda l: l != '', content_cols.split('\\n')))))"
   ]
  },
  {
   "cell_type": "code",
   "execution_count": 5,
   "metadata": {},
   "outputs": [
    {
     "data": {
      "text/plain": [
       "[{'description': 'Unique identifier for the record.',\n",
       "  'header': 'id',\n",
       "  'title': 'ID'},\n",
       " {'description': 'The Chicago Police Department RD Number (Records Division Number), which is unique to the incident.',\n",
       "  'header': 'case_number',\n",
       "  'title': 'Case Number'}]"
      ]
     },
     "execution_count": 5,
     "metadata": {},
     "output_type": "execute_result"
    }
   ],
   "source": [
    "header_dics[:2]"
   ]
  },
  {
   "cell_type": "markdown",
   "metadata": {},
   "source": [
    "### Environment\n",
    "\n",
    "The data set is expected to be located at `../data/from-kaggle/`. The dataset downloaded from the page mentioned above comes in multiple .csv files. I extracted those files into the directory (see below `ls` output).\n",
    "\n",
    "It shouldn't matter where the data comes from or how many files it's broken up into. As long as the pattern matches, that should work."
   ]
  },
  {
   "cell_type": "code",
   "execution_count": 402,
   "metadata": {},
   "outputs": [
    {
     "name": "stdout",
     "output_type": "stream",
     "text": [
      "total 1.9G\r\n",
      "-rw-rw-r-- 1 ernest ernest 454M Jan 28  2017 Chicago_Crimes_2001_to_2004.csv\r\n",
      "-rw-rw-r-- 1 ernest ernest 450M Jan 28  2017 Chicago_Crimes_2005_to_2007.csv\r\n",
      "-rw-rw-r-- 1 ernest ernest 647M Jan 28  2017 Chicago_Crimes_2008_to_2011.csv\r\n",
      "-rw-rw-r-- 1 ernest ernest 350M Jan 28  2017 Chicago_Crimes_2012_to_2017.csv\r\n"
     ]
    }
   ],
   "source": [
    "!ls -lh ../data/from-kaggle/"
   ]
  },
  {
   "cell_type": "markdown",
   "metadata": {},
   "source": [
    "---\n",
    "## Reading the data\n",
    "\n",
    "Using the Spark's csv reader to parse the files. It processes multiple files and returns a single data frame:"
   ]
  },
  {
   "cell_type": "code",
   "execution_count": 7,
   "metadata": {},
   "outputs": [],
   "source": [
    "df = spark.read.csv('../data/from-kaggle/*.csv', inferSchema=True, header=True)"
   ]
  },
  {
   "cell_type": "code",
   "execution_count": 403,
   "metadata": {},
   "outputs": [],
   "source": [
    "# Caching this data frame as it's going to be read over and over again\n",
    "df = df.cache()"
   ]
  },
  {
   "cell_type": "code",
   "execution_count": 9,
   "metadata": {},
   "outputs": [
    {
     "name": "stdout",
     "output_type": "stream",
     "text": [
      "root\n",
      " |-- _c0: integer (nullable = true)\n",
      " |-- ID: integer (nullable = true)\n",
      " |-- Case Number: string (nullable = true)\n",
      " |-- Date: string (nullable = true)\n",
      " |-- Block: string (nullable = true)\n",
      " |-- IUCR: string (nullable = true)\n",
      " |-- Primary Type: string (nullable = true)\n",
      " |-- Description: string (nullable = true)\n",
      " |-- Location Description: string (nullable = true)\n",
      " |-- Arrest: string (nullable = true)\n",
      " |-- Domestic: string (nullable = true)\n",
      " |-- Beat: string (nullable = true)\n",
      " |-- District: string (nullable = true)\n",
      " |-- Ward: string (nullable = true)\n",
      " |-- Community Area: string (nullable = true)\n",
      " |-- FBI Code: string (nullable = true)\n",
      " |-- X Coordinate: string (nullable = true)\n",
      " |-- Y Coordinate: string (nullable = true)\n",
      " |-- Year: string (nullable = true)\n",
      " |-- Updated On: string (nullable = true)\n",
      " |-- Latitude: string (nullable = true)\n",
      " |-- Longitude: string (nullable = true)\n",
      " |-- Location: string (nullable = true)\n",
      "\n"
     ]
    }
   ],
   "source": [
    "df.printSchema()"
   ]
  },
  {
   "cell_type": "markdown",
   "metadata": {},
   "source": [
    "---\n",
    "**Rename columns so that we can use the dot notation**"
   ]
  },
  {
   "cell_type": "code",
   "execution_count": 10,
   "metadata": {},
   "outputs": [],
   "source": [
    "for h in header_dics:\n",
    "    df = df.withColumnRenamed(h['title'], h['header'])"
   ]
  },
  {
   "cell_type": "markdown",
   "metadata": {},
   "source": [
    "There's a row that's been identified as having no value for `location_description`. We will just get rid of it right now...\n",
    "\n",
    "Initially implemented using a `rdd.filter` call. Although, alternatively, one can use the Dataset.filter function"
   ]
  },
  {
   "cell_type": "code",
   "execution_count": null,
   "metadata": {},
   "outputs": [],
   "source": [
    "df = df.rdd.filter(lambda rec: rec.arrest.find('Location Description') < 0).toDF().cache()"
   ]
  },
  {
   "cell_type": "markdown",
   "metadata": {},
   "source": [
    "Taking an initial look at the content of the data frame:"
   ]
  },
  {
   "cell_type": "code",
   "execution_count": 11,
   "metadata": {},
   "outputs": [
    {
     "name": "stdout",
     "output_type": "stream",
     "text": [
      "+----+----+-----------+----------------------+---------------+----+------------+-------------------+--------------------+------+--------+----+--------+----+--------------+--------+------------+------------+----+----------------------+------------+-------------+-----------------------------+\n",
      "|_c0 |id  |case_number|date                  |block          |iucr|primary_type|description        |location_description|arrest|domestic|beat|district|ward|community_area|fbi_code|x_coordinate|y_coordinate|year|updated_on            |latitude    |longitude    |location                     |\n",
      "+----+----+-----------+----------------------+---------------+----+------------+-------------------+--------------------+------+--------+----+--------+----+--------------+--------+------------+------------+----+----------------------+------------+-------------+-----------------------------+\n",
      "|388 |4785|HP610824   |10/07/2008 12:39:00 PM|000XX E 75TH ST|0110|HOMICIDE    |FIRST DEGREE MURDER|ALLEY               |True  |False   |323 |3.0     |6.0 |69.0          |01A     |1178207.0   |1855308.0   |2008|08/17/2015 03:03:40 PM|41.758275857|-87.622451031|(41.758275857, -87.622451031)|\n",
      "|835 |4786|HP616595   |10/09/2008 03:30:00 AM|048XX W POLK ST|0110|HOMICIDE    |FIRST DEGREE MURDER|STREET              |True  |False   |1533|15.0    |24.0|25.0          |01A     |1144200.0   |1895857.0   |2008|08/17/2015 03:03:40 PM|41.87025207 |-87.746069362|(41.87025207, -87.746069362) |\n",
      "|1334|4787|HP616904   |10/09/2008 08:35:00 AM|030XX W MANN DR|0110|HOMICIDE    |FIRST DEGREE MURDER|PARK PROPERTY       |False |False   |831 |8.0     |18.0|66.0          |01A     |1157314.0   |1859778.0   |2008|08/17/2015 03:03:40 PM|41.770990476|-87.698901469|(41.770990476, -87.698901469)|\n",
      "+----+----+-----------+----------------------+---------------+----+------------+-------------------+--------------------+------+--------+----+--------+----+--------------+--------+------------+------------+----+----------------------+------------+-------------+-----------------------------+\n",
      "only showing top 3 rows\n",
      "\n"
     ]
    }
   ],
   "source": [
    "df.show(n=3, truncate=False)"
   ]
  },
  {
   "cell_type": "markdown",
   "metadata": {},
   "source": [
    "---\n",
    "## Looking at the data"
   ]
  },
  {
   "cell_type": "code",
   "execution_count": 407,
   "metadata": {},
   "outputs": [],
   "source": [
    "# crime types\n",
    "crime_type_groups = df.groupBy('primary_type').count()"
   ]
  },
  {
   "cell_type": "code",
   "execution_count": 408,
   "metadata": {},
   "outputs": [],
   "source": [
    "crime_type_counts = crime_type_groups.orderBy('count', ascending=False)"
   ]
  },
  {
   "cell_type": "markdown",
   "metadata": {},
   "source": [
    "Total record count:"
   ]
  },
  {
   "cell_type": "code",
   "execution_count": 417,
   "metadata": {},
   "outputs": [
    {
     "name": "stdout",
     "output_type": "stream",
     "text": [
      "7941285\n"
     ]
    }
   ],
   "source": [
    "print(df.count())"
   ]
  },
  {
   "cell_type": "markdown",
   "metadata": {},
   "source": [
    "How many features do we have"
   ]
  },
  {
   "cell_type": "code",
   "execution_count": 418,
   "metadata": {},
   "outputs": [
    {
     "data": {
      "text/plain": [
       "['_c0',\n",
       " 'id',\n",
       " 'case_number',\n",
       " 'date',\n",
       " 'block',\n",
       " 'iucr',\n",
       " 'primary_type',\n",
       " 'description',\n",
       " 'location_description',\n",
       " 'arrest',\n",
       " 'domestic',\n",
       " 'beat',\n",
       " 'district',\n",
       " 'ward',\n",
       " 'community_area',\n",
       " 'fbi_code',\n",
       " 'x_coordinate',\n",
       " 'y_coordinate',\n",
       " 'year',\n",
       " 'updated_on',\n",
       " 'latitude',\n",
       " 'longitude',\n",
       " 'location',\n",
       " 'date_time',\n",
       " 'month']"
      ]
     },
     "execution_count": 418,
     "metadata": {},
     "output_type": "execute_result"
    }
   ],
   "source": [
    "df.columns"
   ]
  },
  {
   "cell_type": "code",
   "execution_count": 419,
   "metadata": {},
   "outputs": [
    {
     "name": "stdout",
     "output_type": "stream",
     "text": [
      "root\n",
      " |-- _c0: long (nullable = true)\n",
      " |-- id: long (nullable = true)\n",
      " |-- case_number: string (nullable = true)\n",
      " |-- date: string (nullable = true)\n",
      " |-- block: string (nullable = true)\n",
      " |-- iucr: string (nullable = true)\n",
      " |-- primary_type: string (nullable = true)\n",
      " |-- description: string (nullable = true)\n",
      " |-- location_description: string (nullable = true)\n",
      " |-- arrest: string (nullable = true)\n",
      " |-- domestic: string (nullable = true)\n",
      " |-- beat: string (nullable = true)\n",
      " |-- district: string (nullable = true)\n",
      " |-- ward: string (nullable = true)\n",
      " |-- community_area: string (nullable = true)\n",
      " |-- fbi_code: string (nullable = true)\n",
      " |-- x_coordinate: string (nullable = true)\n",
      " |-- y_coordinate: string (nullable = true)\n",
      " |-- year: string (nullable = true)\n",
      " |-- updated_on: string (nullable = true)\n",
      " |-- latitude: string (nullable = true)\n",
      " |-- longitude: string (nullable = true)\n",
      " |-- location: string (nullable = true)\n",
      " |-- date_time: timestamp (nullable = true)\n",
      " |-- month: date (nullable = true)\n",
      "\n"
     ]
    }
   ],
   "source": [
    "#Let's see the schema of the data frame:\n",
    "df.printSchema()"
   ]
  },
  {
   "cell_type": "markdown",
   "metadata": {},
   "source": [
    "### Crime types\n",
    "\n",
    "These are the top 20 most frequent crime types:"
   ]
  },
  {
   "cell_type": "code",
   "execution_count": 409,
   "metadata": {},
   "outputs": [
    {
     "name": "stdout",
     "output_type": "stream",
     "text": [
      "+--------------------------------+-------+\n",
      "|primary_type                    |count  |\n",
      "+--------------------------------+-------+\n",
      "|THEFT                           |1640506|\n",
      "|BATTERY                         |1442717|\n",
      "|CRIMINAL DAMAGE                 |923000 |\n",
      "|NARCOTICS                       |885431 |\n",
      "|OTHER OFFENSE                   |491923 |\n",
      "|ASSAULT                         |481661 |\n",
      "|BURGLARY                        |470958 |\n",
      "|MOTOR VEHICLE THEFT             |370548 |\n",
      "|ROBBERY                         |300453 |\n",
      "|DECEPTIVE PRACTICE              |280931 |\n",
      "|CRIMINAL TRESPASS               |229367 |\n",
      "|PROSTITUTION                    |86401  |\n",
      "|WEAPONS VIOLATION               |77429  |\n",
      "|PUBLIC PEACE VIOLATION          |58548  |\n",
      "|OFFENSE INVOLVING CHILDREN      |51441  |\n",
      "|CRIM SEXUAL ASSAULT             |29868  |\n",
      "|SEX OFFENSE                     |28707  |\n",
      "|GAMBLING                        |18806  |\n",
      "|LIQUOR LAW VIOLATION            |17513  |\n",
      "|INTERFERENCE WITH PUBLIC OFFICER|15710  |\n",
      "+--------------------------------+-------+\n",
      "only showing top 20 rows\n",
      "\n"
     ]
    }
   ],
   "source": [
    "crime_type_counts.show(truncate=False)"
   ]
  },
  {
   "cell_type": "markdown",
   "metadata": {},
   "source": [
    "I like doing some things by hand, but it's clear that here, one can obtain a Pandas data frame by calling:\n",
    "\n",
    "``\n",
    "crime_type_counts.toPandas()\n",
    "``"
   ]
  },
  {
   "cell_type": "code",
   "execution_count": 16,
   "metadata": {},
   "outputs": [],
   "source": [
    "counts_pddf = pd.DataFrame(crime_type_counts.rdd.map(lambda l: l.asDict()).collect())"
   ]
  },
  {
   "cell_type": "code",
   "execution_count": 410,
   "metadata": {},
   "outputs": [
    {
     "data": {
      "text/html": [
       "<div>\n",
       "<style scoped>\n",
       "    .dataframe tbody tr th:only-of-type {\n",
       "        vertical-align: middle;\n",
       "    }\n",
       "\n",
       "    .dataframe tbody tr th {\n",
       "        vertical-align: top;\n",
       "    }\n",
       "\n",
       "    .dataframe thead th {\n",
       "        text-align: right;\n",
       "    }\n",
       "</style>\n",
       "<table border=\"1\" class=\"dataframe\">\n",
       "  <thead>\n",
       "    <tr style=\"text-align: right;\">\n",
       "      <th></th>\n",
       "      <th>count</th>\n",
       "      <th>primary_type</th>\n",
       "    </tr>\n",
       "  </thead>\n",
       "  <tbody>\n",
       "    <tr>\n",
       "      <th>0</th>\n",
       "      <td>1640506</td>\n",
       "      <td>THEFT</td>\n",
       "    </tr>\n",
       "    <tr>\n",
       "      <th>1</th>\n",
       "      <td>1442717</td>\n",
       "      <td>BATTERY</td>\n",
       "    </tr>\n",
       "    <tr>\n",
       "      <th>2</th>\n",
       "      <td>923000</td>\n",
       "      <td>CRIMINAL DAMAGE</td>\n",
       "    </tr>\n",
       "    <tr>\n",
       "      <th>3</th>\n",
       "      <td>885431</td>\n",
       "      <td>NARCOTICS</td>\n",
       "    </tr>\n",
       "    <tr>\n",
       "      <th>4</th>\n",
       "      <td>491923</td>\n",
       "      <td>OTHER OFFENSE</td>\n",
       "    </tr>\n",
       "    <tr>\n",
       "      <th>5</th>\n",
       "      <td>481661</td>\n",
       "      <td>ASSAULT</td>\n",
       "    </tr>\n",
       "    <tr>\n",
       "      <th>6</th>\n",
       "      <td>470958</td>\n",
       "      <td>BURGLARY</td>\n",
       "    </tr>\n",
       "    <tr>\n",
       "      <th>7</th>\n",
       "      <td>370548</td>\n",
       "      <td>MOTOR VEHICLE THEFT</td>\n",
       "    </tr>\n",
       "    <tr>\n",
       "      <th>8</th>\n",
       "      <td>300453</td>\n",
       "      <td>ROBBERY</td>\n",
       "    </tr>\n",
       "    <tr>\n",
       "      <th>9</th>\n",
       "      <td>280931</td>\n",
       "      <td>DECEPTIVE PRACTICE</td>\n",
       "    </tr>\n",
       "  </tbody>\n",
       "</table>\n",
       "</div>"
      ],
      "text/plain": [
       "     count         primary_type\n",
       "0  1640506                THEFT\n",
       "1  1442717              BATTERY\n",
       "2   923000      CRIMINAL DAMAGE\n",
       "3   885431            NARCOTICS\n",
       "4   491923        OTHER OFFENSE\n",
       "5   481661              ASSAULT\n",
       "6   470958             BURGLARY\n",
       "7   370548  MOTOR VEHICLE THEFT\n",
       "8   300453              ROBBERY\n",
       "9   280931   DECEPTIVE PRACTICE"
      ]
     },
     "execution_count": 410,
     "metadata": {},
     "output_type": "execute_result"
    }
   ],
   "source": [
    "counts_pddf.head(10)"
   ]
  },
  {
   "cell_type": "code",
   "execution_count": 18,
   "metadata": {
    "scrolled": false
   },
   "outputs": [
    {
     "data": {
      "text/plain": [
       "[Text(0,0.5,'Primary Type'), Text(0.5,0,'Crimes Record Count')]"
      ]
     },
     "execution_count": 18,
     "metadata": {},
     "output_type": "execute_result"
    },
    {
     "data": {
      "image/png": "[encoded data removed]",
      "text/plain": [
       "<matplotlib.figure.Figure at 0x7ffb43b89c18>"
      ]
     },
     "metadata": {},
     "output_type": "display_data"
    }
   ],
   "source": [
    "plt.rcParams[\"figure.figsize\"] = [20, 8]\n",
    "\n",
    "sns.set(style=\"whitegrid\")\n",
    "sns.set_color_codes(\"pastel\")\n",
    "\n",
    "#sns.despine(left=True, bottom=True)\n",
    "type_graph = sns.barplot(x='count', y='primary_type', data=counts_pddf)\n",
    "type_graph.set(ylabel=\"Primary Type\", xlabel=\"Crimes Record Count\")"
   ]
  },
  {
   "cell_type": "markdown",
   "metadata": {},
   "source": [
    "### Recorded Date"
   ]
  },
  {
   "cell_type": "code",
   "execution_count": 19,
   "metadata": {},
   "outputs": [],
   "source": [
    "import datetime\n",
    "from pyspark.sql.functions import *"
   ]
  },
  {
   "cell_type": "code",
   "execution_count": 416,
   "metadata": {},
   "outputs": [
    {
     "name": "stdout",
     "output_type": "stream",
     "text": [
      "+----------------------+----------------------+\n",
      "|first_record_date     |latest_record_date    |\n",
      "+----------------------+----------------------+\n",
      "|01/01/2001 01:00:00 AM|12/31/2016 12:56:00 AM|\n",
      "+----------------------+----------------------+\n",
      "\n"
     ]
    }
   ],
   "source": [
    "df.select(min('date').alias('first_record_date'), max('date').alias('latest_record_date')).show(truncate=False)"
   ]
  },
  {
   "cell_type": "markdown",
   "metadata": {},
   "source": [
    "So it seems that the dataset we're dealing with comprises records from **2001-01-01** to **2016-12-31**"
   ]
  },
  {
   "cell_type": "markdown",
   "metadata": {},
   "source": [
    "---\n",
    "Converting dates to a timestamp type. As seen in the schema output above, the `date` field is of `string` type, which won't be very helpful\n",
    "\n",
    "The format specifier that seems valid for date like '02/23/2006 09:06:22 PM' is **`'MM/dd/yyyy hh:mm:ss a'`**"
   ]
  },
  {
   "cell_type": "code",
   "execution_count": 420,
   "metadata": {},
   "outputs": [],
   "source": [
    "df = df.withColumn('date_time', to_timestamp('date', 'MM/dd/yyyy hh:mm:ss a'))\\\n",
    "       .withColumn('month', trunc('date_time', 'YYYY')) #adding a month column to be able to view stats on a monthly basis"
   ]
  },
  {
   "cell_type": "code",
   "execution_count": 421,
   "metadata": {},
   "outputs": [
    {
     "name": "stdout",
     "output_type": "stream",
     "text": [
      "+----------------------+-------------------+----------+\n",
      "|date                  |date_time          |month     |\n",
      "+----------------------+-------------------+----------+\n",
      "|10/07/2008 12:39:00 PM|2008-10-07 12:39:00|2008-01-01|\n",
      "|10/09/2008 03:30:00 AM|2008-10-09 03:30:00|2008-01-01|\n",
      "+----------------------+-------------------+----------+\n",
      "only showing top 2 rows\n",
      "\n"
     ]
    }
   ],
   "source": [
    "df.select(['date','date_time', 'month'])\\\n",
    "  .show(n=2, truncate=False)"
   ]
  },
  {
   "cell_type": "markdown",
   "metadata": {},
   "source": [
    "### Primary type and arrest"
   ]
  },
  {
   "cell_type": "code",
   "execution_count": 422,
   "metadata": {},
   "outputs": [
    {
     "name": "stdout",
     "output_type": "stream",
     "text": [
      "\n",
      "+------+----------+------+\n",
      "|arrest|month     |count |\n",
      "+------+----------+------+\n",
      "|False |2001-01-01|400628|\n",
      "|True  |2001-01-01|167890|\n",
      "|False |2002-01-01|348074|\n",
      "+------+----------+------+\n",
      "only showing top 3 rows\n",
      "\n"
     ]
    }
   ],
   "source": [
    "# crime types and arrest over years:\n",
    "type_arrest_date = df.groupBy(['arrest', 'month'])\\\n",
    "                     .count()\\\n",
    "                     .orderBy(['month', 'count'], ascending=[True, False])\n",
    "print()\n",
    "type_arrest_date.show(3, truncate=False)"
   ]
  },
  {
   "cell_type": "code",
   "execution_count": 423,
   "metadata": {},
   "outputs": [],
   "source": [
    "# A small detour to learn/see how datetime works\n",
    "import datetime"
   ]
  },
  {
   "cell_type": "code",
   "execution_count": 424,
   "metadata": {},
   "outputs": [
    {
     "data": {
      "text/plain": [
       "'14'"
      ]
     },
     "execution_count": 424,
     "metadata": {},
     "output_type": "execute_result"
    }
   ],
   "source": [
    "datetime.datetime.now()\n",
    "datetime.datetime.strftime(datetime.datetime.now(), '%H')"
   ]
  },
  {
   "cell_type": "code",
   "execution_count": 425,
   "metadata": {},
   "outputs": [],
   "source": [
    "# A pandas data frame of the collected dictionary version of the date-grouped DF above\n",
    "type_arrest_pddf = pd.DataFrame(type_arrest_date.rdd.map(lambda l: l.asDict()).collect())"
   ]
  },
  {
   "cell_type": "markdown",
   "metadata": {},
   "source": [
    "Convert date/time values to Pandas type\n",
    "\n",
    "*A lot of this is unnecessary, but that's called fiddling...*"
   ]
  },
  {
   "cell_type": "code",
   "execution_count": 426,
   "metadata": {},
   "outputs": [],
   "source": [
    "type_arrest_pddf['yearpd'] = type_arrest_pddf['month'].apply(lambda dt: datetime.datetime.strftime(pd.Timestamp(dt), '%Y'))"
   ]
  },
  {
   "cell_type": "code",
   "execution_count": 427,
   "metadata": {},
   "outputs": [
    {
     "data": {
      "text/html": [
       "<div>\n",
       "<style scoped>\n",
       "    .dataframe tbody tr th:only-of-type {\n",
       "        vertical-align: middle;\n",
       "    }\n",
       "\n",
       "    .dataframe tbody tr th {\n",
       "        vertical-align: top;\n",
       "    }\n",
       "\n",
       "    .dataframe thead th {\n",
       "        text-align: right;\n",
       "    }\n",
       "</style>\n",
       "<table border=\"1\" class=\"dataframe\">\n",
       "  <thead>\n",
       "    <tr style=\"text-align: right;\">\n",
       "      <th></th>\n",
       "      <th>arrest</th>\n",
       "      <th>count</th>\n",
       "      <th>month</th>\n",
       "      <th>yearpd</th>\n",
       "    </tr>\n",
       "  </thead>\n",
       "  <tbody>\n",
       "    <tr>\n",
       "      <th>0</th>\n",
       "      <td>False</td>\n",
       "      <td>400628</td>\n",
       "      <td>2001-01-01</td>\n",
       "      <td>2001</td>\n",
       "    </tr>\n",
       "    <tr>\n",
       "      <th>1</th>\n",
       "      <td>True</td>\n",
       "      <td>167890</td>\n",
       "      <td>2001-01-01</td>\n",
       "      <td>2001</td>\n",
       "    </tr>\n",
       "    <tr>\n",
       "      <th>2</th>\n",
       "      <td>False</td>\n",
       "      <td>348074</td>\n",
       "      <td>2002-01-01</td>\n",
       "      <td>2002</td>\n",
       "    </tr>\n",
       "    <tr>\n",
       "      <th>3</th>\n",
       "      <td>True</td>\n",
       "      <td>142805</td>\n",
       "      <td>2002-01-01</td>\n",
       "      <td>2002</td>\n",
       "    </tr>\n",
       "    <tr>\n",
       "      <th>4</th>\n",
       "      <td>False</td>\n",
       "      <td>334414</td>\n",
       "      <td>2003-01-01</td>\n",
       "      <td>2003</td>\n",
       "    </tr>\n",
       "  </tbody>\n",
       "</table>\n",
       "</div>"
      ],
      "text/plain": [
       "   arrest   count       month yearpd\n",
       "0   False  400628  2001-01-01   2001\n",
       "1    True  167890  2001-01-01   2001\n",
       "2   False  348074  2002-01-01   2002\n",
       "3    True  142805  2002-01-01   2002\n",
       "4   False  334414  2003-01-01   2003"
      ]
     },
     "execution_count": 427,
     "metadata": {},
     "output_type": "execute_result"
    }
   ],
   "source": [
    "type_arrest_pddf['arrest'] = type_arrest_pddf['arrest'].apply(lambda l: l=='True')\n",
    "type_arrest_pddf.head(5)"
   ]
  },
  {
   "cell_type": "markdown",
   "metadata": {},
   "source": [
    "### How have arrests evolved over the 16 years?"
   ]
  },
  {
   "cell_type": "code",
   "execution_count": 428,
   "metadata": {},
   "outputs": [
    {
     "data": {
      "text/plain": [
       "<matplotlib.legend.Legend at 0x7ffb236fed30>"
      ]
     },
     "execution_count": 428,
     "metadata": {},
     "output_type": "execute_result"
    },
    {
     "data": {
      "image/png": "[encoded data removed]",
      "text/plain": [
       "<matplotlib.figure.Figure at 0x7ffb23be6e80>"
      ]
     },
     "metadata": {},
     "output_type": "display_data"
    }
   ],
   "source": [
    "# Data for plotting\n",
    "t = type_arrest_pddf['count'] - 20 # np.arange(0.0, 2.0, 0.01)\n",
    "s = type_arrest_pddf['month']\n",
    "\n",
    "arrested = type_arrest_pddf[type_arrest_pddf['arrest'] == True]\n",
    "not_arrested = type_arrest_pddf[type_arrest_pddf['arrest'] == False]\n",
    "\n",
    "# Note that using plt.subplots below is equivalent to using\n",
    "# fig = plt.figure() and then ax = fig.add_subplot(111)\n",
    "fig, ax = plt.subplots()\n",
    "ax.plot(arrested['month'], arrested['count'], label='Arrested')\n",
    "ax.plot(not_arrested['month'], not_arrested['count'], label='Not Arrested')\n",
    "\n",
    "ax.set(xlabel='Year - 2001-2017', ylabel='Total records',\n",
    "       title='Year-on-year crime records')\n",
    "ax.grid(b=True, which='both', axis='y')\n",
    "ax.legend()"
   ]
  },
  {
   "cell_type": "markdown",
   "metadata": {},
   "source": [
    "It looks like the relative distance between arrests and non-arrests has remained constant.."
   ]
  },
  {
   "cell_type": "markdown",
   "metadata": {},
   "source": [
    "### What time of the day are ciminal the busiest?"
   ]
  },
  {
   "cell_type": "code",
   "execution_count": 430,
   "metadata": {},
   "outputs": [],
   "source": [
    "# Extract the \"hour\" field from the date into a separate column called \"hour\"\n",
    "df_hour = df.withColumn('hour', hour(df['date_time']))"
   ]
  },
  {
   "cell_type": "code",
   "execution_count": 431,
   "metadata": {},
   "outputs": [],
   "source": [
    "# Derive a data frame with crime counts per hour of the day:\n",
    "hourly_count = df_hour.groupBy(['primary_type', 'hour']).count().cache()\n",
    "hourly_total_count = hourly_count.groupBy('hour').sum('count')"
   ]
  },
  {
   "cell_type": "code",
   "execution_count": 432,
   "metadata": {},
   "outputs": [],
   "source": [
    "hourly_count_pddf = pd.DataFrame(hourly_total_count.select(hourly_total_count['hour'], hourly_total_count['sum(count)'].alias('count'))\\\n",
    "                                .rdd.map(lambda l: l.asDict())\\\n",
    "                                 .collect())"
   ]
  },
  {
   "cell_type": "code",
   "execution_count": 433,
   "metadata": {},
   "outputs": [],
   "source": [
    "hourly_count_pddf = hourly_count_pddf.sort_values(by='hour')"
   ]
  },
  {
   "cell_type": "markdown",
   "metadata": {},
   "source": [
    "Seems that 18-22 are the worst hours..."
   ]
  },
  {
   "cell_type": "code",
   "execution_count": 434,
   "metadata": {},
   "outputs": [
    {
     "data": {
      "text/plain": [
       "<matplotlib.legend.Legend at 0x7ffb23059da0>"
      ]
     },
     "execution_count": 434,
     "metadata": {},
     "output_type": "execute_result"
    },
    {
     "data": {
      "image/png": "[encoded data removed]",
      "text/plain": [
       "<matplotlib.figure.Figure at 0x7ffb238d7128>"
      ]
     },
     "metadata": {},
     "output_type": "display_data"
    }
   ],
   "source": [
    "fig, ax = plt.subplots()\n",
    "ax.plot(hourly_count_pddf['hour'], hourly_count_pddf['count'], label='Hourly Count')\n",
    "\n",
    "ax.set(xlabel='Hour of Day', ylabel='Total records',\n",
    "       title='Overall hourly crime numbers')\n",
    "ax.grid(b=True, which='both', axis='y')\n",
    "ax.legend()"
   ]
  },
  {
   "cell_type": "markdown",
   "metadata": {},
   "source": [
    "### Types of locations with crime entries"
   ]
  },
  {
   "cell_type": "code",
   "execution_count": 36,
   "metadata": {},
   "outputs": [
    {
     "data": {
      "text/plain": [
       "173"
      ]
     },
     "execution_count": 36,
     "metadata": {},
     "output_type": "execute_result"
    }
   ],
   "source": [
    "# Number of types of location recorded in the dataset\n",
    "df.select('location_description').distinct().count()"
   ]
  },
  {
   "cell_type": "markdown",
   "metadata": {},
   "source": [
    "What are the top 10 places where crime occurred?"
   ]
  },
  {
   "cell_type": "code",
   "execution_count": 437,
   "metadata": {},
   "outputs": [
    {
     "name": "stdout",
     "output_type": "stream",
     "text": [
      "+--------------------+-------+\n",
      "|location_description|  count|\n",
      "+--------------------+-------+\n",
      "|              STREET|2101843|\n",
      "|           RESIDENCE|1341750|\n",
      "|            SIDEWALK| 815595|\n",
      "|           APARTMENT| 812512|\n",
      "|               OTHER| 294286|\n",
      "|PARKING LOT/GARAG...| 225454|\n",
      "|               ALLEY| 180155|\n",
      "|SCHOOL, PUBLIC, B...| 173750|\n",
      "|    RESIDENCE-GARAGE| 158550|\n",
      "|RESIDENCE PORCH/H...| 138492|\n",
      "+--------------------+-------+\n",
      "only showing top 10 rows\n",
      "\n"
     ]
    }
   ],
   "source": [
    "df.groupBy(['location_description']).count().orderBy('count', ascending=False).show(10)"
   ]
  },
  {
   "cell_type": "markdown",
   "metadata": {},
   "source": [
    "Can we see how the top crime locations are affected over the day?"
   ]
  },
  {
   "cell_type": "code",
   "execution_count": 438,
   "metadata": {},
   "outputs": [],
   "source": [
    "#Being on the street and at home\n",
    "street_home_hour = location_hour.where((location_hour['location_description'] == 'STREET') | (location_hour['location_description'] == 'RESIDENCE'))"
   ]
  },
  {
   "cell_type": "code",
   "execution_count": 439,
   "metadata": {},
   "outputs": [],
   "source": [
    "#a data frame with location descriptions and counts of recorded crimes, and hours...\n",
    "street_home_hour_pddf = pd.DataFrame(street_home_hour.rdd.map(lambda row: row.asDict()).collect())\n",
    "street_home_hour_pddf = street_home_hour_pddf.sort_values(by='hour')"
   ]
  },
  {
   "cell_type": "code",
   "execution_count": 440,
   "metadata": {},
   "outputs": [
    {
     "data": {
      "image/png": "[encoded data removed]",
      "text/plain": [
       "<matplotlib.figure.Figure at 0x7ffb230a93c8>"
      ]
     },
     "metadata": {},
     "output_type": "display_data"
    }
   ],
   "source": [
    "figure, axes = plt.subplots()\n",
    "axes.plot(street_home_hour_pddf[street_home_hour_pddf['location_description'] == 'RESIDENCE']['hour'], \n",
    "          street_home_hour_pddf[street_home_hour_pddf['location_description'] == 'RESIDENCE']['count'],\n",
    "         label='Crimes at home')\n",
    "\n",
    "axes.plot(street_home_hour_pddf[street_home_hour_pddf['location_description'] == 'STREET']['hour'], \n",
    "          street_home_hour_pddf[street_home_hour_pddf['location_description'] == 'STREET']['count'],\n",
    "         label='Crimes on the street')\n",
    "\n",
    "axes.legend()\n",
    "ax.grid(b=True, which='both', axis='y')\n"
   ]
  },
  {
   "cell_type": "markdown",
   "metadata": {},
   "source": [
    "#### This may be just me, but it seems that crimes at home increase when crimes on the street decrease. Could it be that it's the same kind of people that are in charge of both home and streets?"
   ]
  },
  {
   "cell_type": "markdown",
   "metadata": {},
   "source": [
    "### Domestic crimes:"
   ]
  },
  {
   "cell_type": "code",
   "execution_count": 41,
   "metadata": {},
   "outputs": [],
   "source": [
    "domestic_hour = pd.DataFrame(df_hour.groupBy(['domestic', 'hour']).count().orderBy('hour').rdd.map(lambda row: row.asDict()).collect())"
   ]
  },
  {
   "cell_type": "code",
   "execution_count": 42,
   "metadata": {},
   "outputs": [],
   "source": [
    "dom = domestic_hour[domestic_hour['domestic'] == 'True']['count']\n",
    "non_dom = domestic_hour[domestic_hour['domestic'] == 'False']['count']\n",
    "\n",
    "either_dom = domestic_hour.groupby(by=['hour']).sum()['count']\n",
    "\n",
    "dom_keys = domestic_hour[domestic_hour['domestic'] == 'False']['hour']"
   ]
  },
  {
   "cell_type": "markdown",
   "metadata": {},
   "source": [
    "#### How do domestic crimes compare the other crimes?"
   ]
  },
  {
   "cell_type": "code",
   "execution_count": 44,
   "metadata": {},
   "outputs": [
    {
     "data": {
      "image/png": "[encoded data removed]",
      "text/plain": [
       "<matplotlib.figure.Figure at 0x7ffb3866f668>"
      ]
     },
     "metadata": {},
     "output_type": "display_data"
    }
   ],
   "source": [
    "figure, axes = plt.subplots()\n",
    "\n",
    "axes.plot(dom_keys, either_dom, label='Total hourly count')\n",
    "axes.plot(dom_keys, dom, label='Domestic crime count')\n",
    "axes.plot(dom_keys, non_dom, label='Non-Domestic hourly count')\n",
    "\n",
    "axes.legend()\n",
    "axes.grid(which='b', b=True)"
   ]
  },
  {
   "cell_type": "markdown",
   "metadata": {},
   "source": [
    "### A closer look at crime date and time\n",
    "\n",
    "The information given here indicates when the crime is perpetrated. The date/time field may be able to draw a meaningful trend that can be used to predict crime. However, I believe that this leads much more to external factors, such as policy changes, law inforcement-related factors, and so on.\n",
    "\n",
    "It's much more likely that time-related features that are more closely relatable to crime occurence be better predictors than the date and time. I mean, knowing the month of the year, the day of the week, and the hour of the day that the crime occurred can enable better chances of predicting accurately than simply knowing \"when\" AD crimes occurred."
   ]
  },
  {
   "cell_type": "markdown",
   "metadata": {},
   "source": [
    "Adding predictors (so far fields) that read time information:\n",
    "\n",
    " * hour of day (already added the 'hour' field)\n",
    " * day of week\n",
    " * month of year\n",
    " * day in a range. Instead of using the entire date-time, we'll use a \"day sequence\" that is counted from 2001-01-01."
   ]
  },
  {
   "cell_type": "code",
   "execution_count": 441,
   "metadata": {},
   "outputs": [],
   "source": [
    "df_dates = df_hour.withColumn('week_day', dayofweek(df_hour['date_time']))\\\n",
    "                 .withColumn('year_month', month(df_hour['date_time']))\\\n",
    "                 .withColumn('month_day', dayofmonth(df_hour['date_time']))\\\n",
    "                 .withColumn('date_number', datediff(df['date_time'], to_date(lit('2001-01-01'), format='yyyy-MM-dd')))\\\n",
    "                 .cache()"
   ]
  },
  {
   "cell_type": "code",
   "execution_count": 442,
   "metadata": {},
   "outputs": [
    {
     "name": "stdout",
     "output_type": "stream",
     "text": [
      "+----------------------+----------+----+--------+----+----------+---------+-----------+\n",
      "|date                  |month     |hour|week_day|year|year_month|month_day|date_number|\n",
      "+----------------------+----------+----+--------+----+----------+---------+-----------+\n",
      "|10/07/2008 12:39:00 PM|2008-01-01|12  |3       |2008|10        |7        |2836       |\n",
      "|10/09/2008 03:30:00 AM|2008-01-01|3   |5       |2008|10        |9        |2838       |\n",
      "|10/09/2008 08:35:00 AM|2008-01-01|8   |5       |2008|10        |9        |2838       |\n",
      "|10/10/2008 02:33:00 AM|2008-01-01|2   |6       |2008|10        |10       |2839       |\n",
      "|10/10/2008 12:50:00 PM|2008-01-01|12  |6       |2008|10        |10       |2839       |\n",
      "|10/10/2008 08:32:00 PM|2008-01-01|20  |6       |2008|10        |10       |2839       |\n",
      "|10/11/2008 12:55:00 AM|2008-01-01|0   |7       |2008|10        |11       |2840       |\n",
      "|10/11/2008 10:25:00 PM|2008-01-01|22  |7       |2008|10        |11       |2840       |\n",
      "|10/11/2008 10:00:00 PM|2008-01-01|22  |7       |2008|10        |11       |2840       |\n",
      "|10/12/2008 05:47:00 AM|2008-01-01|5   |1       |2008|10        |12       |2841       |\n",
      "|10/12/2008 10:33:00 PM|2008-01-01|22  |1       |2008|10        |12       |2841       |\n",
      "|10/12/2008 10:55:00 PM|2008-01-01|22  |1       |2008|10        |12       |2841       |\n",
      "|10/13/2008 02:49:00 PM|2008-01-01|14  |2       |2008|10        |13       |2842       |\n",
      "|10/13/2008 07:04:00 PM|2008-01-01|19  |2       |2008|10        |13       |2842       |\n",
      "|10/14/2008 09:37:00 AM|2008-01-01|9   |3       |2008|10        |14       |2843       |\n",
      "|10/14/2008 01:27:00 PM|2008-01-01|13  |3       |2008|10        |14       |2843       |\n",
      "|10/15/2008 04:10:00 PM|2008-01-01|16  |4       |2008|10        |15       |2844       |\n",
      "|10/16/2008 09:35:00 PM|2008-01-01|21  |5       |2008|10        |16       |2845       |\n",
      "|10/16/2008 04:25:00 PM|2008-01-01|16  |5       |2008|10        |16       |2845       |\n",
      "|10/17/2008 05:17:00 AM|2008-01-01|5   |6       |2008|10        |17       |2846       |\n",
      "+----------------------+----------+----+--------+----+----------+---------+-----------+\n",
      "only showing top 20 rows\n",
      "\n"
     ]
    }
   ],
   "source": [
    "df_dates.select(['date', 'month', 'hour', 'week_day', 'year', 'year_month', 'month_day', 'date_number']).show(20, truncate=False)"
   ]
  },
  {
   "cell_type": "markdown",
   "metadata": {},
   "source": [
    "## Day of week crime levels\n",
    "\n",
    "It seems intriguing that the're little variance... But bad people are bad all week, aren't they..."
   ]
  },
  {
   "cell_type": "code",
   "execution_count": 443,
   "metadata": {},
   "outputs": [],
   "source": [
    "week_day_crime_counts = df_dates.groupBy('week_day').count()"
   ]
  },
  {
   "cell_type": "code",
   "execution_count": 444,
   "metadata": {},
   "outputs": [],
   "source": [
    "week_day_crime_counts_pddf = pd.DataFrame(week_day_crime_counts.orderBy('week_day').rdd.map(lambda e: e.asDict()).collect())"
   ]
  },
  {
   "cell_type": "code",
   "execution_count": 445,
   "metadata": {},
   "outputs": [
    {
     "data": {
      "text/plain": [
       "<matplotlib.axes._subplots.AxesSubplot at 0x7ffb232518d0>"
      ]
     },
     "execution_count": 445,
     "metadata": {},
     "output_type": "execute_result"
    },
    {
     "data": {
      "image/png": "[encoded data removed]",
      "text/plain": [
       "<matplotlib.figure.Figure at 0x7ffb23229978>"
      ]
     },
     "metadata": {},
     "output_type": "display_data"
    }
   ],
   "source": [
    "sns.barplot(data=week_day_crime_counts_pddf, x='week_day', y='count')"
   ]
  },
  {
   "cell_type": "markdown",
   "metadata": {},
   "source": [
    "## Month of year\n",
    "\n",
    "It seems that May-August are the busiest months for criminals... What could be the reason?"
   ]
  },
  {
   "cell_type": "code",
   "execution_count": 446,
   "metadata": {},
   "outputs": [],
   "source": [
    "year_month_crime_counts = df_dates.groupBy('year_month').count()"
   ]
  },
  {
   "cell_type": "code",
   "execution_count": 447,
   "metadata": {},
   "outputs": [],
   "source": [
    "year_month_crime_counts_pddf = pd.DataFrame(year_month_crime_counts.orderBy('year_month').rdd.map(lambda e: e.asDict()).collect())"
   ]
  },
  {
   "cell_type": "code",
   "execution_count": 448,
   "metadata": {},
   "outputs": [
    {
     "data": {
      "text/html": [
       "<div>\n",
       "<style scoped>\n",
       "    .dataframe tbody tr th:only-of-type {\n",
       "        vertical-align: middle;\n",
       "    }\n",
       "\n",
       "    .dataframe tbody tr th {\n",
       "        vertical-align: top;\n",
       "    }\n",
       "\n",
       "    .dataframe thead th {\n",
       "        text-align: right;\n",
       "    }\n",
       "</style>\n",
       "<table border=\"1\" class=\"dataframe\">\n",
       "  <thead>\n",
       "    <tr style=\"text-align: right;\">\n",
       "      <th></th>\n",
       "      <th>count</th>\n",
       "      <th>year_month</th>\n",
       "    </tr>\n",
       "  </thead>\n",
       "  <tbody>\n",
       "    <tr>\n",
       "      <th>0</th>\n",
       "      <td>660357</td>\n",
       "      <td>1</td>\n",
       "    </tr>\n",
       "    <tr>\n",
       "      <th>1</th>\n",
       "      <td>564178</td>\n",
       "      <td>2</td>\n",
       "    </tr>\n",
       "    <tr>\n",
       "      <th>2</th>\n",
       "      <td>639692</td>\n",
       "      <td>3</td>\n",
       "    </tr>\n",
       "    <tr>\n",
       "      <th>3</th>\n",
       "      <td>649755</td>\n",
       "      <td>4</td>\n",
       "    </tr>\n",
       "    <tr>\n",
       "      <th>4</th>\n",
       "      <td>730039</td>\n",
       "      <td>5</td>\n",
       "    </tr>\n",
       "    <tr>\n",
       "      <th>5</th>\n",
       "      <td>711768</td>\n",
       "      <td>6</td>\n",
       "    </tr>\n",
       "    <tr>\n",
       "      <th>6</th>\n",
       "      <td>730949</td>\n",
       "      <td>7</td>\n",
       "    </tr>\n",
       "    <tr>\n",
       "      <th>7</th>\n",
       "      <td>724522</td>\n",
       "      <td>8</td>\n",
       "    </tr>\n",
       "    <tr>\n",
       "      <th>8</th>\n",
       "      <td>679295</td>\n",
       "      <td>9</td>\n",
       "    </tr>\n",
       "    <tr>\n",
       "      <th>9</th>\n",
       "      <td>687450</td>\n",
       "      <td>10</td>\n",
       "    </tr>\n",
       "    <tr>\n",
       "      <th>10</th>\n",
       "      <td>610733</td>\n",
       "      <td>11</td>\n",
       "    </tr>\n",
       "    <tr>\n",
       "      <th>11</th>\n",
       "      <td>552547</td>\n",
       "      <td>12</td>\n",
       "    </tr>\n",
       "  </tbody>\n",
       "</table>\n",
       "</div>"
      ],
      "text/plain": [
       "     count  year_month\n",
       "0   660357           1\n",
       "1   564178           2\n",
       "2   639692           3\n",
       "3   649755           4\n",
       "4   730039           5\n",
       "5   711768           6\n",
       "6   730949           7\n",
       "7   724522           8\n",
       "8   679295           9\n",
       "9   687450          10\n",
       "10  610733          11\n",
       "11  552547          12"
      ]
     },
     "execution_count": 448,
     "metadata": {},
     "output_type": "execute_result"
    }
   ],
   "source": [
    "year_month_crime_counts_pddf"
   ]
  },
  {
   "cell_type": "markdown",
   "metadata": {},
   "source": [
    "What happens in MAY through AUGUST?\n",
    "\n",
    " * Salary increase season?\n",
    " * Weather?\n",
    "\n",
    "I think these don't form the Christmas season in Chicago..."
   ]
  },
  {
   "cell_type": "code",
   "execution_count": 449,
   "metadata": {},
   "outputs": [
    {
     "data": {
      "text/plain": [
       "<matplotlib.axes._subplots.AxesSubplot at 0x7ffb23157a90>"
      ]
     },
     "execution_count": 449,
     "metadata": {},
     "output_type": "execute_result"
    },
    {
     "data": {
      "image/png": "[encoded data removed]",
      "text/plain": [
       "<matplotlib.figure.Figure at 0x7ffb2343fc88>"
      ]
     },
     "metadata": {},
     "output_type": "display_data"
    }
   ],
   "source": [
    "sns.barplot(data=year_month_crime_counts_pddf, y='count', x='year_month')"
   ]
  },
  {
   "cell_type": "markdown",
   "metadata": {},
   "source": [
    "## Day of month"
   ]
  },
  {
   "cell_type": "code",
   "execution_count": 450,
   "metadata": {},
   "outputs": [],
   "source": [
    "month_day_crime_counts = df_dates.groupBy('month_day').count()"
   ]
  },
  {
   "cell_type": "code",
   "execution_count": 451,
   "metadata": {},
   "outputs": [],
   "source": [
    "month_day_crime_counts_pddf = pd.DataFrame(month_day_crime_counts.orderBy('month_day').rdd.map(lambda e: e.asDict()).collect())"
   ]
  },
  {
   "cell_type": "markdown",
   "metadata": {},
   "source": [
    "#### Top 10 worst days of the month"
   ]
  },
  {
   "cell_type": "code",
   "execution_count": 452,
   "metadata": {},
   "outputs": [
    {
     "data": {
      "text/html": [
       "<div>\n",
       "<style scoped>\n",
       "    .dataframe tbody tr th:only-of-type {\n",
       "        vertical-align: middle;\n",
       "    }\n",
       "\n",
       "    .dataframe tbody tr th {\n",
       "        vertical-align: top;\n",
       "    }\n",
       "\n",
       "    .dataframe thead th {\n",
       "        text-align: right;\n",
       "    }\n",
       "</style>\n",
       "<table border=\"1\" class=\"dataframe\">\n",
       "  <thead>\n",
       "    <tr style=\"text-align: right;\">\n",
       "      <th></th>\n",
       "      <th>count</th>\n",
       "      <th>month_day</th>\n",
       "    </tr>\n",
       "  </thead>\n",
       "  <tbody>\n",
       "    <tr>\n",
       "      <th>0</th>\n",
       "      <td>309994</td>\n",
       "      <td>1</td>\n",
       "    </tr>\n",
       "    <tr>\n",
       "      <th>14</th>\n",
       "      <td>271113</td>\n",
       "      <td>15</td>\n",
       "    </tr>\n",
       "    <tr>\n",
       "      <th>19</th>\n",
       "      <td>264762</td>\n",
       "      <td>20</td>\n",
       "    </tr>\n",
       "    <tr>\n",
       "      <th>9</th>\n",
       "      <td>263976</td>\n",
       "      <td>10</td>\n",
       "    </tr>\n",
       "    <tr>\n",
       "      <th>13</th>\n",
       "      <td>263507</td>\n",
       "      <td>14</td>\n",
       "    </tr>\n",
       "    <tr>\n",
       "      <th>11</th>\n",
       "      <td>263193</td>\n",
       "      <td>12</td>\n",
       "    </tr>\n",
       "    <tr>\n",
       "      <th>16</th>\n",
       "      <td>261727</td>\n",
       "      <td>17</td>\n",
       "    </tr>\n",
       "    <tr>\n",
       "      <th>8</th>\n",
       "      <td>261387</td>\n",
       "      <td>9</td>\n",
       "    </tr>\n",
       "    <tr>\n",
       "      <th>15</th>\n",
       "      <td>261078</td>\n",
       "      <td>16</td>\n",
       "    </tr>\n",
       "    <tr>\n",
       "      <th>7</th>\n",
       "      <td>260775</td>\n",
       "      <td>8</td>\n",
       "    </tr>\n",
       "  </tbody>\n",
       "</table>\n",
       "</div>"
      ],
      "text/plain": [
       "     count  month_day\n",
       "0   309994          1\n",
       "14  271113         15\n",
       "19  264762         20\n",
       "9   263976         10\n",
       "13  263507         14\n",
       "11  263193         12\n",
       "16  261727         17\n",
       "8   261387          9\n",
       "15  261078         16\n",
       "7   260775          8"
      ]
     },
     "execution_count": 452,
     "metadata": {},
     "output_type": "execute_result"
    }
   ],
   "source": [
    "month_day_crime_counts_pddf.sort_values(by='count', ascending=False).head(10)"
   ]
  },
  {
   "cell_type": "code",
   "execution_count": 453,
   "metadata": {},
   "outputs": [],
   "source": [
    "month_day_crime_counts_pddf = month_day_crime_counts_pddf.sort_values(by='month_day', ascending=True)"
   ]
  },
  {
   "cell_type": "code",
   "execution_count": 454,
   "metadata": {},
   "outputs": [
    {
     "data": {
      "text/plain": [
       "<matplotlib.legend.Legend at 0x7ffb23485908>"
      ]
     },
     "execution_count": 454,
     "metadata": {},
     "output_type": "execute_result"
    },
    {
     "data": {
      "image/png": "[encoded data removed]",
      "text/plain": [
       "<matplotlib.figure.Figure at 0x7ffb22fa64a8>"
      ]
     },
     "metadata": {},
     "output_type": "display_data"
    }
   ],
   "source": [
    "fg, ax = plt.subplots()\n",
    "\n",
    "ax.plot(month_day_crime_counts_pddf['month_day'], month_day_crime_counts_pddf['count'], label='Crimes over the month')\n",
    "\n",
    "ax.grid(b=True, which='both')\n",
    "ax.legend()"
   ]
  },
  {
   "cell_type": "markdown",
   "metadata": {},
   "source": [
    "### Community areas?\n",
    "\n",
    "Chicago has 77 community areas. How do they appear next to one another in a count plot?"
   ]
  },
  {
   "cell_type": "code",
   "execution_count": 455,
   "metadata": {},
   "outputs": [],
   "source": [
    "df_dates_community_areas = df_dates.na.drop(subset=['community_area']).groupBy('community_area').count()"
   ]
  },
  {
   "cell_type": "markdown",
   "metadata": {},
   "source": [
    "What are the to 10 areas with recorded crime?"
   ]
  },
  {
   "cell_type": "code",
   "execution_count": 456,
   "metadata": {
    "scrolled": true
   },
   "outputs": [
    {
     "name": "stdout",
     "output_type": "stream",
     "text": [
      "+--------------+------+\n",
      "|community_area| count|\n",
      "+--------------+------+\n",
      "|          25.0|467137|\n",
      "|          43.0|237381|\n",
      "|           8.0|235562|\n",
      "|          23.0|229024|\n",
      "|          67.0|216991|\n",
      "|          24.0|213915|\n",
      "|          71.0|207183|\n",
      "|          28.0|206017|\n",
      "|          29.0|202887|\n",
      "|          68.0|197659|\n",
      "+--------------+------+\n",
      "only showing top 10 rows\n",
      "\n"
     ]
    }
   ],
   "source": [
    "df_dates_community_areas.orderBy('count', ascending=False).show(10)"
   ]
  },
  {
   "cell_type": "code",
   "execution_count": 457,
   "metadata": {},
   "outputs": [],
   "source": [
    "## Is it possible to see how the top crime types occur in the top crime-affected areas?\n",
    "top_crime_types = df_dates.select('primary_type').groupBy('primary_type').count().rdd.map(lambda row: row.asDict()).takeOrdered(10, key=lambda l: 1/l['count'])\n",
    "top_busy_areas =  df_dates_community_areas.rdd.map(lambda row: row.asDict()).takeOrdered(10, key=lambda l: 1/l['count'])"
   ]
  },
  {
   "cell_type": "code",
   "execution_count": 458,
   "metadata": {},
   "outputs": [],
   "source": [
    "top_crime_types_lst = [dc['primary_type'] for dc in top_crime_types]\n",
    "top_busy_areas_lst = [dc['community_area'] for dc in top_busy_areas]"
   ]
  },
  {
   "cell_type": "code",
   "execution_count": 459,
   "metadata": {},
   "outputs": [
    {
     "data": {
      "text/plain": [
       "['THEFT',\n",
       " 'BATTERY',\n",
       " 'CRIMINAL DAMAGE',\n",
       " 'NARCOTICS',\n",
       " 'OTHER OFFENSE',\n",
       " 'ASSAULT',\n",
       " 'BURGLARY',\n",
       " 'MOTOR VEHICLE THEFT',\n",
       " 'ROBBERY',\n",
       " 'DECEPTIVE PRACTICE']"
      ]
     },
     "execution_count": 459,
     "metadata": {},
     "output_type": "execute_result"
    }
   ],
   "source": [
    "top_crime_types_lst"
   ]
  },
  {
   "cell_type": "code",
   "execution_count": 460,
   "metadata": {},
   "outputs": [
    {
     "data": {
      "text/plain": [
       "['25.0', '43.0', '8.0', '23.0', '67.0', '24.0', '71.0', '28.0', '29.0', '68.0']"
      ]
     },
     "execution_count": 460,
     "metadata": {},
     "output_type": "execute_result"
    }
   ],
   "source": [
    "top_busy_areas_lst"
   ]
  },
  {
   "cell_type": "markdown",
   "metadata": {},
   "source": [
    "Find crimes of the top 10 types, that were perpetrated in the 10 10 busiest cities..."
   ]
  },
  {
   "cell_type": "code",
   "execution_count": 461,
   "metadata": {},
   "outputs": [
    {
     "name": "stdout",
     "output_type": "stream",
     "text": [
      "instr('25.0 43.0 8.0 23.0 67.0 24.0 71.0 28.0 29.0 68.0', community_area) > 0\n"
     ]
    }
   ],
   "source": [
    "q1 = \"instr('\" + ' '.join(top_busy_areas_lst) + \"', community_area) > 0\"\n",
    "q2 = \"instr('\" + ' '.join(top_crime_types_lst) + \"', primary_type) > 0\"\n",
    "print(q1)"
   ]
  },
  {
   "cell_type": "code",
   "execution_count": 462,
   "metadata": {},
   "outputs": [],
   "source": [
    "## Construct a data frame filtered on these top community areas and top crime types:\n",
    "df_dates_tops = df_dates.filter(q1).filter(q2)"
   ]
  },
  {
   "cell_type": "code",
   "execution_count": 463,
   "metadata": {},
   "outputs": [
    {
     "data": {
      "text/plain": [
       "2608136"
      ]
     },
     "execution_count": 463,
     "metadata": {},
     "output_type": "execute_result"
    }
   ],
   "source": [
    "df_dates_tops.count()"
   ]
  },
  {
   "cell_type": "code",
   "execution_count": 464,
   "metadata": {},
   "outputs": [],
   "source": [
    "tops_of_tops = df_dates_tops.groupBy(['primary_type', 'community_area']).count().orderBy(['primary_type', 'count', 'community_area'], ascending=[True, False, True]).cache()"
   ]
  },
  {
   "cell_type": "code",
   "execution_count": 465,
   "metadata": {},
   "outputs": [
    {
     "name": "stdout",
     "output_type": "stream",
     "text": [
      "+------------+--------------+-----+\n",
      "|primary_type|community_area|count|\n",
      "+------------+--------------+-----+\n",
      "|     ASSAULT|          25.0|27112|\n",
      "|     ASSAULT|          43.0|16358|\n",
      "|     ASSAULT|          67.0|15576|\n",
      "|     ASSAULT|          68.0|15064|\n",
      "|     ASSAULT|          71.0|14342|\n",
      "|     ASSAULT|          23.0|14081|\n",
      "|     ASSAULT|          29.0|12605|\n",
      "|     ASSAULT|          28.0|11096|\n",
      "|     ASSAULT|          24.0|10119|\n",
      "|     ASSAULT|           8.0| 8385|\n",
      "|     ASSAULT|           1.0| 6459|\n",
      "|     ASSAULT|           3.0| 6335|\n",
      "|     ASSAULT|           7.0| 2871|\n",
      "|     ASSAULT|           4.0| 2427|\n",
      "|     ASSAULT|           5.0| 1726|\n",
      "|     ASSAULT|           9.0|  362|\n",
      "|     BATTERY|          25.0|91430|\n",
      "|     BATTERY|          43.0|51026|\n",
      "|     BATTERY|          67.0|50855|\n",
      "|     BATTERY|          68.0|49025|\n",
      "+------------+--------------+-----+\n",
      "only showing top 20 rows\n",
      "\n"
     ]
    }
   ],
   "source": [
    "tops_of_tops.show(20)"
   ]
  },
  {
   "cell_type": "markdown",
   "metadata": {},
   "source": [
    "#### Community area names\n",
    "\n",
    "Let's link names of these community areas. These float numbers are having a hard time making any sense...\n",
    "\n",
    "Sourced from Chicago Tribune at http://www.chicagotribune.com/chi-community-areas-htmlstory.html\n"
   ]
  },
  {
   "cell_type": "code",
   "execution_count": 151,
   "metadata": {},
   "outputs": [],
   "source": [
    "area_names = \"\"\"\n",
    "01\tRogers Park\t\n",
    "40\tWashington Park\n",
    "02\tWest Ridge\t\n",
    "41\tHyde Park\n",
    "03\tUptown\t\n",
    "42\tWoodlawn\n",
    "04\tLincoln Square\t\n",
    "43\tSouth Shore\n",
    "05\tNorth Center\t\n",
    "44\tChatham\n",
    "06\tLakeview\t\n",
    "45\tAvalon Park\n",
    "07\tLincoln Park\t\n",
    "46\tSouth Chicago\n",
    "08\tNear North Side\t\n",
    "47\tBurnside\n",
    "09\tEdison Park\t\n",
    "48\tCalumet Heights\n",
    "10\tNorwood Park\t\n",
    "49\tRoseland\n",
    "11\tJefferson Park\t\n",
    "50\tPullman\n",
    "12\tForest Glen\t\n",
    "51\tSouth Deering\n",
    "13\tNorth Park\t\n",
    "52\tEast Side\n",
    "14\tAlbany Park\t\n",
    "53\tWest Pullman\n",
    "15\tPortage Park\t\n",
    "54\tRiverdale\n",
    "16\tIrving Park\t\n",
    "55\tHegewisch\n",
    "17\tDunning\t\n",
    "56\tGarfield Ridge\n",
    "18\tMontclare\t\n",
    "57\tArcher Heights\n",
    "19\tBelmont Cragin\t\n",
    "58\tBrighton Park\n",
    "20\tHermosa\t\n",
    "59\tMcKinley Park\n",
    "21\tAvondale\t\n",
    "60\tBridgeport\n",
    "22\tLogan Square\t\n",
    "61\tNew City\n",
    "23\tHumboldt Park\t\n",
    "62\tWest Elsdon\n",
    "24\tWest Town\t\n",
    "63\tGage Park\n",
    "25\tAustin\t\n",
    "64\tClearing\n",
    "26\tWest Garfield Park \t\n",
    "65\tWest Lawn\n",
    "27\tEast Garfield Park\t\n",
    "66\tChicago Lawn\n",
    "28\tNear West Side\t\n",
    "67\tWest Englewood\n",
    "29\tNorth Lawndale\t\n",
    "68\tEnglewood\n",
    "30\tSouth Lawndale\t\n",
    "69\tGreater Grand Crossing\n",
    "31\tLower West Side\t\n",
    "70\tAshburn\n",
    "32\tLoop\t\n",
    "71\tAuburn Gresham\t\n",
    "33\tNear South Side\t\n",
    "72\tBeverly\n",
    "34\tArmour Square\t\n",
    "73\tWashington Heights\n",
    "35\tDouglas\t\n",
    "74\tMount Greenwood\n",
    "36\tOakland\t\n",
    "75\tMorgan Park\n",
    "37\tFuller Park\t\n",
    "76\tO'Hare\n",
    "38\tGrand Boulevard\t\n",
    "77\tEdgewater\n",
    "39\tKenwood\t\n",
    "\"\"\""
   ]
  },
  {
   "cell_type": "code",
   "execution_count": 160,
   "metadata": {},
   "outputs": [],
   "source": [
    "code_pairs = [[float(p[0]), p[1]] for p in [pair.strip().split('\\t') for pair in area_names.strip().split('\\n')]]"
   ]
  },
  {
   "cell_type": "code",
   "execution_count": 466,
   "metadata": {},
   "outputs": [
    {
     "data": {
      "text/plain": [
       "[[1.0, 'Rogers Park'],\n",
       " [40.0, 'Washington Park'],\n",
       " [2.0, 'West Ridge'],\n",
       " [41.0, 'Hyde Park'],\n",
       " [3.0, 'Uptown']]"
      ]
     },
     "execution_count": 466,
     "metadata": {},
     "output_type": "execute_result"
    }
   ],
   "source": [
    "code_pairs[:5]"
   ]
  },
  {
   "cell_type": "markdown",
   "metadata": {},
   "source": [
    "#### A view of crime count per community area"
   ]
  },
  {
   "cell_type": "code",
   "execution_count": 467,
   "metadata": {},
   "outputs": [],
   "source": [
    "community_area_counts = pd.DataFrame(df_dates_community_areas.rdd.map(lambda row: row.asDict()).collect())"
   ]
  },
  {
   "cell_type": "code",
   "execution_count": 468,
   "metadata": {},
   "outputs": [],
   "source": [
    "# Create a dictionary of area code to names\n",
    "area_name_dic = {float(k[0]):k[1] for k in code_pairs}"
   ]
  },
  {
   "cell_type": "code",
   "execution_count": 469,
   "metadata": {},
   "outputs": [],
   "source": [
    "community_area_counts['community_area_name'] = community_area_counts['community_area'].apply(lambda area: area_name_dic.get(float(area),  'unknown_%s'%area))"
   ]
  },
  {
   "cell_type": "code",
   "execution_count": 470,
   "metadata": {},
   "outputs": [
    {
     "data": {
      "text/html": [
       "<div>\n",
       "<style scoped>\n",
       "    .dataframe tbody tr th:only-of-type {\n",
       "        vertical-align: middle;\n",
       "    }\n",
       "\n",
       "    .dataframe tbody tr th {\n",
       "        vertical-align: top;\n",
       "    }\n",
       "\n",
       "    .dataframe thead th {\n",
       "        text-align: right;\n",
       "    }\n",
       "</style>\n",
       "<table border=\"1\" class=\"dataframe\">\n",
       "  <thead>\n",
       "    <tr style=\"text-align: right;\">\n",
       "      <th></th>\n",
       "      <th>community_area</th>\n",
       "      <th>count</th>\n",
       "      <th>community_area_name</th>\n",
       "    </tr>\n",
       "  </thead>\n",
       "  <tbody>\n",
       "    <tr>\n",
       "      <th>22</th>\n",
       "      <td>0.0</td>\n",
       "      <td>114</td>\n",
       "      <td>unknown_0.0</td>\n",
       "    </tr>\n",
       "    <tr>\n",
       "      <th>24</th>\n",
       "      <td>9.0</td>\n",
       "      <td>6983</td>\n",
       "      <td>Edison Park</td>\n",
       "    </tr>\n",
       "    <tr>\n",
       "      <th>11</th>\n",
       "      <td>47.0</td>\n",
       "      <td>10957</td>\n",
       "      <td>Burnside</td>\n",
       "    </tr>\n",
       "    <tr>\n",
       "      <th>25</th>\n",
       "      <td>12.0</td>\n",
       "      <td>12969</td>\n",
       "      <td>Forest Glen</td>\n",
       "    </tr>\n",
       "    <tr>\n",
       "      <th>53</th>\n",
       "      <td>55.0</td>\n",
       "      <td>15554</td>\n",
       "      <td>Hegewisch</td>\n",
       "    </tr>\n",
       "  </tbody>\n",
       "</table>\n",
       "</div>"
      ],
      "text/plain": [
       "   community_area  count community_area_name\n",
       "22            0.0    114         unknown_0.0\n",
       "24            9.0   6983         Edison Park\n",
       "11           47.0  10957            Burnside\n",
       "25           12.0  12969         Forest Glen\n",
       "53           55.0  15554           Hegewisch"
      ]
     },
     "execution_count": 470,
     "metadata": {},
     "output_type": "execute_result"
    }
   ],
   "source": [
    "community_area_counts = community_area_counts.sort_values(by='count')\n",
    "community_area_counts.head(5)"
   ]
  },
  {
   "cell_type": "markdown",
   "metadata": {},
   "source": [
    "**What is happening in Austin?**"
   ]
  },
  {
   "cell_type": "markdown",
   "metadata": {},
   "source": [
    "plt.rcParams[\"figure.figsize\"] = [32, 32]\n",
    "\n",
    "sns.set(style=\"whitegrid\")\n",
    "sns.set_color_codes(\"pastel\")\n",
    "\n",
    "#sns.despine(left=True, bottom=True)\n",
    "area_chart = sns.barplot(x='count', y='community_area_name', data=community_area_counts)\n",
    "area_chart.set(ylabel=\"Community Area Name\", xlabel=\"Overall Crimes Record Count\")"
   ]
  },
  {
   "cell_type": "markdown",
   "metadata": {},
   "source": [
    "** *Join these community areas on the main data frame* **"
   ]
  },
  {
   "cell_type": "code",
   "execution_count": 474,
   "metadata": {},
   "outputs": [],
   "source": [
    "code_pairs_df = spark.createDataFrame(code_pairs, ['community_area', 'area_name'])"
   ]
  },
  {
   "cell_type": "code",
   "execution_count": 475,
   "metadata": {},
   "outputs": [],
   "source": [
    "named_tops_of_tops = code_pairs_df.join(tops_of_tops, on='community_area', how='right')"
   ]
  },
  {
   "cell_type": "code",
   "execution_count": 476,
   "metadata": {
    "scrolled": true
   },
   "outputs": [
    {
     "name": "stdout",
     "output_type": "stream",
     "text": [
      "+--------------+---------------+-------------------+-----+\n",
      "|community_area|      area_name|       primary_type|count|\n",
      "+--------------+---------------+-------------------+-----+\n",
      "|           8.0|Near North Side|            ASSAULT| 8385|\n",
      "|           8.0|Near North Side|            BATTERY|31008|\n",
      "|           8.0|Near North Side|           BURGLARY| 5635|\n",
      "|           8.0|Near North Side|    CRIMINAL DAMAGE|15840|\n",
      "|           8.0|Near North Side| DECEPTIVE PRACTICE|20796|\n",
      "|           8.0|Near North Side|MOTOR VEHICLE THEFT| 4961|\n",
      "|           8.0|Near North Side|          NARCOTICS|12647|\n",
      "|           8.0|Near North Side|      OTHER OFFENSE| 8621|\n",
      "|           8.0|Near North Side|            ROBBERY| 5763|\n",
      "|           8.0|Near North Side|              THEFT|96280|\n",
      "+--------------+---------------+-------------------+-----+\n",
      "only showing top 10 rows\n",
      "\n"
     ]
    }
   ],
   "source": [
    "named_tops_of_tops.show(10)"
   ]
  },
  {
   "cell_type": "code",
   "execution_count": 477,
   "metadata": {},
   "outputs": [],
   "source": [
    "tops_of_tops_dff = pd.DataFrame(named_tops_of_tops.rdd.map(lambda l: l.asDict()).collect() )"
   ]
  },
  {
   "cell_type": "code",
   "execution_count": 478,
   "metadata": {
    "scrolled": false
   },
   "outputs": [
    {
     "data": {
      "text/plain": [
       "<matplotlib.axes._subplots.AxesSubplot at 0x7ffb22dabfd0>"
      ]
     },
     "execution_count": 478,
     "metadata": {},
     "output_type": "execute_result"
    },
    {
     "data": {
      "image/png": "[encoded data removed]",
      "text/plain": [
       "<matplotlib.figure.Figure at 0x7ffb22df95f8>"
      ]
     },
     "metadata": {},
     "output_type": "display_data"
    }
   ],
   "source": [
    "plt.rcParams[\"figure.figsize\"] = [64, 16]\n",
    "sns.barplot(data=tops_of_tops_dff, x='area_name', y='count', hue='primary_type', palette='pastel')"
   ]
  },
  {
   "cell_type": "markdown",
   "metadata": {},
   "source": [
    "---\n",
    "\n",
    "\n",
    "# Can we try to predict the primary type of crime?\n",
    "\n",
    "Now on to another objective of this exercise. We're going to try to predict what kind of crime is going to occur given the selected features.\n",
    "\n",
    "Speaking about features, here's the list of predictors that I chose to go for:\n",
    "\n",
    "### Excluded variables:\n",
    "\n",
    " * 'id' - Random information that isn't a predictor of crime type\n",
    " * 'case_number' - Random information that isn't a predictor of crime type\n",
    " * 'date' - Removed because it's been re-featurized in other features generated above\n",
    " * 'block' - Excluded as this may simply mean noise\n",
    " * 'iucr' - Excluded as correlated with crime type. No point.\n",
    " * 'x_coordinate' - Not included\n",
    " * 'y_coordinate' - Not included\n",
    " * 'year' - Not included (already otherwise featurized)\n",
    " * 'updated_on' - not included\n",
    " * 'latitude' - not included\n",
    " * 'longitude' - not included\n",
    " * 'location' - not included\n",
    " * 'date_time' - Taken into account in other time-related features\n",
    " * 'description' - Excluded. I want to see this as associated with the response (primary type)\n",
    "\n",
    "\n",
    "### Selected predictors:\n",
    "\n",
    " * 'location_description'\n",
    " * 'arrest'\n",
    " * 'domestic'\n",
    " * 'beat'\n",
    " * 'district'\n",
    " * 'ward'\n",
    " * 'community_area'\n",
    " * 'fbi_code'\n",
    " * 'hour'\n",
    " * 'week_day'\n",
    " * 'year_month'\n",
    " * 'month_day'\n",
    " * 'date_number'"
   ]
  },
  {
   "cell_type": "code",
   "execution_count": 480,
   "metadata": {},
   "outputs": [],
   "source": [
    "selected_features = [\n",
    " 'location_description',\n",
    " 'arrest',\n",
    " 'domestic',\n",
    " 'beat',\n",
    " 'district',\n",
    " 'ward',\n",
    " 'community_area',\n",
    " 'fbi_code',\n",
    " 'hour',\n",
    " 'week_day',\n",
    " 'year_month',\n",
    " 'month_day',\n",
    " 'date_number']"
   ]
  },
  {
   "cell_type": "code",
   "execution_count": 482,
   "metadata": {},
   "outputs": [
    {
     "name": "stdout",
     "output_type": "stream",
     "text": [
      "root\n",
      " |-- location_description: string (nullable = true)\n",
      " |-- arrest: string (nullable = true)\n",
      " |-- domestic: string (nullable = true)\n",
      " |-- beat: string (nullable = true)\n",
      " |-- district: string (nullable = true)\n",
      " |-- ward: string (nullable = true)\n",
      " |-- community_area: string (nullable = true)\n",
      " |-- fbi_code: string (nullable = true)\n",
      " |-- hour: integer (nullable = true)\n",
      " |-- week_day: integer (nullable = true)\n",
      " |-- year_month: integer (nullable = true)\n",
      " |-- month_day: integer (nullable = true)\n",
      " |-- date_number: integer (nullable = true)\n",
      "\n"
     ]
    }
   ],
   "source": [
    "#Let's see the schema of these selected features:\n",
    "features_df = df_dates.select(selected_features)\n",
    "features_df.printSchema()"
   ]
  },
  {
   "cell_type": "markdown",
   "metadata": {},
   "source": [
    "Let's try to see all level counts in all the selected features..."
   ]
  },
  {
   "cell_type": "code",
   "execution_count": 483,
   "metadata": {},
   "outputs": [
    {
     "name": "stdout",
     "output_type": "stream",
     "text": [
      "Analysing location_description\n",
      "Analysing arrest\n",
      "Analysing domestic\n",
      "Analysing beat\n",
      "Analysing district\n",
      "Analysing ward\n",
      "Analysing community_area\n",
      "Analysing fbi_code\n",
      "Analysing hour\n",
      "Analysing week_day\n",
      "Analysing year_month\n",
      "Analysing month_day\n",
      "Analysing date_number\n"
     ]
    }
   ],
   "source": [
    "feature_level_count_dic = []\n",
    "\n",
    "for feature in selected_features:\n",
    "    print('Analysing %s' % feature)\n",
    "    levels_list_df = features_df.select(feature).distinct()\n",
    "    feature_level_count_dic.append({'feature': feature, 'level_count': levels_list_df.count()})\n"
   ]
  },
  {
   "cell_type": "code",
   "execution_count": 485,
   "metadata": {},
   "outputs": [
    {
     "data": {
      "text/html": [
       "<div>\n",
       "<style scoped>\n",
       "    .dataframe tbody tr th:only-of-type {\n",
       "        vertical-align: middle;\n",
       "    }\n",
       "\n",
       "    .dataframe tbody tr th {\n",
       "        vertical-align: top;\n",
       "    }\n",
       "\n",
       "    .dataframe thead th {\n",
       "        text-align: right;\n",
       "    }\n",
       "</style>\n",
       "<table border=\"1\" class=\"dataframe\">\n",
       "  <thead>\n",
       "    <tr style=\"text-align: right;\">\n",
       "      <th></th>\n",
       "      <th>feature</th>\n",
       "      <th>level_count</th>\n",
       "    </tr>\n",
       "  </thead>\n",
       "  <tbody>\n",
       "    <tr>\n",
       "      <th>12</th>\n",
       "      <td>date_number</td>\n",
       "      <td>5862</td>\n",
       "    </tr>\n",
       "    <tr>\n",
       "      <th>3</th>\n",
       "      <td>beat</td>\n",
       "      <td>304</td>\n",
       "    </tr>\n",
       "    <tr>\n",
       "      <th>0</th>\n",
       "      <td>location_description</td>\n",
       "      <td>173</td>\n",
       "    </tr>\n",
       "    <tr>\n",
       "      <th>6</th>\n",
       "      <td>community_area</td>\n",
       "      <td>79</td>\n",
       "    </tr>\n",
       "    <tr>\n",
       "      <th>5</th>\n",
       "      <td>ward</td>\n",
       "      <td>51</td>\n",
       "    </tr>\n",
       "    <tr>\n",
       "      <th>11</th>\n",
       "      <td>month_day</td>\n",
       "      <td>31</td>\n",
       "    </tr>\n",
       "    <tr>\n",
       "      <th>4</th>\n",
       "      <td>district</td>\n",
       "      <td>27</td>\n",
       "    </tr>\n",
       "    <tr>\n",
       "      <th>7</th>\n",
       "      <td>fbi_code</td>\n",
       "      <td>26</td>\n",
       "    </tr>\n",
       "    <tr>\n",
       "      <th>8</th>\n",
       "      <td>hour</td>\n",
       "      <td>24</td>\n",
       "    </tr>\n",
       "    <tr>\n",
       "      <th>10</th>\n",
       "      <td>year_month</td>\n",
       "      <td>12</td>\n",
       "    </tr>\n",
       "    <tr>\n",
       "      <th>9</th>\n",
       "      <td>week_day</td>\n",
       "      <td>7</td>\n",
       "    </tr>\n",
       "    <tr>\n",
       "      <th>1</th>\n",
       "      <td>arrest</td>\n",
       "      <td>2</td>\n",
       "    </tr>\n",
       "    <tr>\n",
       "      <th>2</th>\n",
       "      <td>domestic</td>\n",
       "      <td>2</td>\n",
       "    </tr>\n",
       "  </tbody>\n",
       "</table>\n",
       "</div>"
      ],
      "text/plain": [
       "                 feature  level_count\n",
       "12           date_number         5862\n",
       "3                   beat          304\n",
       "0   location_description          173\n",
       "6         community_area           79\n",
       "5                   ward           51\n",
       "11             month_day           31\n",
       "4               district           27\n",
       "7               fbi_code           26\n",
       "8                   hour           24\n",
       "10            year_month           12\n",
       "9               week_day            7\n",
       "1                 arrest            2\n",
       "2               domestic            2"
      ]
     },
     "execution_count": 485,
     "metadata": {},
     "output_type": "execute_result"
    }
   ],
   "source": [
    "pd.DataFrame(feature_level_count_dic).sort_values(by='level_count', ascending=False)"
   ]
  },
  {
   "cell_type": "markdown",
   "metadata": {},
   "source": [
    "### Preparing model"
   ]
  },
  {
   "cell_type": "code",
   "execution_count": 487,
   "metadata": {},
   "outputs": [],
   "source": [
    "from pyspark.ml.feature import StringIndexer, VectorAssembler\n",
    "df_dates_features = df_dates.na.drop(subset=selected_features)"
   ]
  },
  {
   "cell_type": "markdown",
   "metadata": {},
   "source": [
    "Let us use Spark's string indexer to index selected features"
   ]
  },
  {
   "cell_type": "code",
   "execution_count": 488,
   "metadata": {},
   "outputs": [
    {
     "name": "stdout",
     "output_type": "stream",
     "text": [
      "Fitting feature \"location_description\"\n",
      "Transforming \"location_description\"\n",
      "Fitting feature \"arrest\"\n",
      "Transforming \"arrest\"\n",
      "Fitting feature \"domestic\"\n",
      "Transforming \"domestic\"\n",
      "Fitting feature \"beat\"\n",
      "Transforming \"beat\"\n",
      "Fitting feature \"district\"\n",
      "Transforming \"district\"\n",
      "Fitting feature \"ward\"\n",
      "Transforming \"ward\"\n",
      "Fitting feature \"community_area\"\n",
      "Transforming \"community_area\"\n",
      "Fitting feature \"fbi_code\"\n",
      "Transforming \"fbi_code\"\n",
      "Fitting feature \"hour\"\n",
      "Transforming \"hour\"\n",
      "Fitting feature \"week_day\"\n",
      "Transforming \"week_day\"\n",
      "Fitting feature \"year_month\"\n",
      "Transforming \"year_month\"\n",
      "Fitting feature \"month_day\"\n",
      "Transforming \"month_day\"\n",
      "Fitting feature \"date_number\"\n",
      "Transforming \"date_number\"\n"
     ]
    }
   ],
   "source": [
    "for feature in feature_level_count_dic:\n",
    "    indexer = StringIndexer(inputCol=feature['feature'], outputCol='%s_indexed' % feature['feature'])\n",
    "    print('Fitting feature \"%s\"' % feature['feature'])\n",
    "    model = indexer.fit(df_dates_features)\n",
    "    print('Transforming \"%s\"' % feature['feature'])\n",
    "    df_dates_features = model.transform(df_dates_features)"
   ]
  },
  {
   "cell_type": "markdown",
   "metadata": {},
   "source": [
    "Now let's do the same with the label"
   ]
  },
  {
   "cell_type": "code",
   "execution_count": 489,
   "metadata": {},
   "outputs": [],
   "source": [
    "## String-index the response variable:\n",
    "response_indexer = StringIndexer(inputCol='primary_type', outputCol='primary_type_indexed')\n",
    "response_model = response_indexer.fit(df_dates_features)\n",
    "df_dates_features = response_model.transform(df_dates_features)"
   ]
  },
  {
   "cell_type": "code",
   "execution_count": 490,
   "metadata": {},
   "outputs": [
    {
     "name": "stdout",
     "output_type": "stream",
     "text": [
      "+---+----+-----------+--------------------+---------------+----+------------+-------------------+--------------------+------+--------+----+--------+----+--------------+--------+------------+------------+----+--------------------+------------+-------------+--------------------+-------------------+----------+----+--------+----------+---------+-----------+----------------------------+--------------+----------------+------------+----------------+------------+----------------------+----------------+------------+----------------+------------------+-----------------+-------------------+--------------------+\n",
      "|_c0|  id|case_number|                date|          block|iucr|primary_type|        description|location_description|arrest|domestic|beat|district|ward|community_area|fbi_code|x_coordinate|y_coordinate|year|          updated_on|    latitude|    longitude|            location|          date_time|     month|hour|week_day|year_month|month_day|date_number|location_description_indexed|arrest_indexed|domestic_indexed|beat_indexed|district_indexed|ward_indexed|community_area_indexed|fbi_code_indexed|hour_indexed|week_day_indexed|year_month_indexed|month_day_indexed|date_number_indexed|primary_type_indexed|\n",
      "+---+----+-----------+--------------------+---------------+----+------------+-------------------+--------------------+------+--------+----+--------+----+--------------+--------+------------+------------+----+--------------------+------------+-------------+--------------------+-------------------+----------+----+--------+----------+---------+-----------+----------------------------+--------------+----------------+------------+----------------+------------+----------------------+----------------+------------+----------------+------------------+-----------------+-------------------+--------------------+\n",
      "|388|4785|   HP610824|10/07/2008 12:39:...|000XX E 75TH ST|0110|    HOMICIDE|FIRST DEGREE MURDER|               ALLEY|  True|   False| 323|     3.0| 6.0|          69.0|     01A|   1178207.0|   1855308.0|2008|08/17/2015 03:03:...|41.758275857|-87.622451031|(41.758275857, -8...|2008-10-07 12:39:00|2008-01-01|  12|       3|        10|        7|       2836|                         6.0|           1.0|             0.0|        47.0|             6.0|         7.0|                  12.0|            22.0|         3.0|             2.0|               4.0|             12.0|              666.0|                21.0|\n",
      "+---+----+-----------+--------------------+---------------+----+------------+-------------------+--------------------+------+--------+----+--------+----+--------------+--------+------------+------------+----+--------------------+------------+-------------+--------------------+-------------------+----------+----+--------+----------+---------+-----------+----------------------------+--------------+----------------+------------+----------------+------------+----------------------+----------------+------------+----------------+------------------+-----------------+-------------------+--------------------+\n",
      "only showing top 1 row\n",
      "\n"
     ]
    }
   ],
   "source": [
    "#What does it look like now...\n",
    "df_dates_features.show(1)"
   ]
  },
  {
   "cell_type": "markdown",
   "metadata": {},
   "source": [
    "Let's vectorize the features\n",
    "\n",
    "We use a vector assembler to vectorize all predictors into a `features` column"
   ]
  },
  {
   "cell_type": "code",
   "execution_count": 267,
   "metadata": {},
   "outputs": [
    {
     "data": {
      "text/plain": [
       "['location_description_indexed',\n",
       " 'arrest_indexed',\n",
       " 'domestic_indexed',\n",
       " 'beat_indexed',\n",
       " 'district_indexed',\n",
       " 'ward_indexed',\n",
       " 'community_area_indexed',\n",
       " 'fbi_code_indexed',\n",
       " 'hour_indexed',\n",
       " 'week_day_indexed',\n",
       " 'year_month_indexed',\n",
       " 'month_day_indexed',\n",
       " 'date_number_indexed']"
      ]
     },
     "execution_count": 267,
     "metadata": {},
     "output_type": "execute_result"
    }
   ],
   "source": [
    "indexed_features = ['%s_indexed' % fc['feature'] for fc in feature_level_count_dic]\n",
    "indexed_features"
   ]
  },
  {
   "cell_type": "code",
   "execution_count": 268,
   "metadata": {},
   "outputs": [],
   "source": [
    "assembler = VectorAssembler(inputCols=indexed_features, outputCol='features')\n",
    "vectorized_df_dates = assembler.transform(df_dates_features)"
   ]
  },
  {
   "cell_type": "code",
   "execution_count": 269,
   "metadata": {},
   "outputs": [
    {
     "data": {
      "text/plain": [
       "[Row(features=DenseVector([6.0, 1.0, 0.0, 47.0, 6.0, 7.0, 12.0, 22.0, 3.0, 2.0, 4.0, 12.0, 666.0]))]"
      ]
     },
     "execution_count": 269,
     "metadata": {},
     "output_type": "execute_result"
    }
   ],
   "source": [
    "vectorized_df_dates.select('features').take(1)"
   ]
  },
  {
   "cell_type": "markdown",
   "metadata": {},
   "source": [
    "### Now let's train the model.\n",
    "\n",
    "We're using **60%** to **40%** split between the train and the test datasets\n",
    "\n",
    "Let's try to train a logistic regression."
   ]
  },
  {
   "cell_type": "code",
   "execution_count": 277,
   "metadata": {},
   "outputs": [],
   "source": [
    "train, test = vectorized_df_dates.randomSplit([0.6, 0.4])"
   ]
  },
  {
   "cell_type": "code",
   "execution_count": 271,
   "metadata": {},
   "outputs": [],
   "source": [
    "from pyspark.ml.classification import LogisticRegression"
   ]
  },
  {
   "cell_type": "code",
   "execution_count": 272,
   "metadata": {},
   "outputs": [],
   "source": [
    "logisticRegression = LogisticRegression(labelCol='primary_type_indexed', featuresCol='features', maxIter=10, family='multinomial')"
   ]
  },
  {
   "cell_type": "code",
   "execution_count": 274,
   "metadata": {},
   "outputs": [],
   "source": [
    "fittedModel = logisticRegression.fit(train)"
   ]
  },
  {
   "cell_type": "markdown",
   "metadata": {},
   "source": [
    "## Model performance?"
   ]
  },
  {
   "cell_type": "code",
   "execution_count": 278,
   "metadata": {},
   "outputs": [
    {
     "data": {
      "text/plain": [
       "0.6258653555581762"
      ]
     },
     "execution_count": 278,
     "metadata": {},
     "output_type": "execute_result"
    }
   ],
   "source": [
    "fittedModel.summary.accuracy"
   ]
  },
  {
   "cell_type": "code",
   "execution_count": 282,
   "metadata": {},
   "outputs": [],
   "source": [
    "model_summary = fittedModel.summary"
   ]
  },
  {
   "cell_type": "code",
   "execution_count": 317,
   "metadata": {},
   "outputs": [
    {
     "data": {
      "text/plain": [
       "DenseMatrix(34, 13, [0.0114, -0.6102, 0.6461, 0.0023, 0.0201, 0.0086, 0.003, -9.3577, ..., 0.0004, 0.0002, 0.0005, 0.0005, 0.0017, 0.0019, 0.0007, 0.0], 1)"
      ]
     },
     "execution_count": 317,
     "metadata": {},
     "output_type": "execute_result"
    }
   ],
   "source": [
    "fittedModel.coefficientMatrix"
   ]
  },
  {
   "cell_type": "markdown",
   "metadata": {},
   "source": [
    "#### Why the 34X13 shape?\n",
    "\n",
    "That's because the multinomial logistic regression is fitted on **each class** of the label. It computes the probability of each class and then predicts based on these probabilities."
   ]
  },
  {
   "cell_type": "code",
   "execution_count": 316,
   "metadata": {},
   "outputs": [
    {
     "name": "stdout",
     "output_type": "stream",
     "text": [
      "DenseMatrix([[ 1.13672599e-02, -6.10221789e-01,  6.46076073e-01,\n",
      "               2.29954405e-03,  2.01354731e-02,  8.64686710e-03,\n",
      "               2.98634670e-03, -9.35774221e+00,  4.28544620e-02,\n",
      "               1.46585666e-01,  6.07077354e-02,  3.22073842e-02,\n",
      "               1.17925812e-04],\n",
      "             [ 6.53353822e-03, -5.22149156e-01,  3.08309448e+00,\n",
      "               1.20173218e-03,  1.25426550e-02, -2.24432302e-03,\n",
      "               5.69843222e-04, -7.33461430e-01,  4.03531093e-02,\n",
      "               1.34493468e-01,  4.14426084e-02,  2.35979902e-02,\n",
      "               1.73265883e-05],\n",
      "             [-1.38258906e-03, -1.65483566e+00,  5.72261365e-01,\n",
      "               1.15783025e-03, -5.16405923e-04,  1.50914357e-02,\n",
      "               5.94493447e-03, -1.04036717e+00,  4.35902488e-02,\n",
      "               1.40044651e-01,  5.10929987e-02,  2.57467987e-02,\n",
      "               2.10966867e-05],\n",
      "             [-3.21085079e-02,  8.17549476e+00, -9.56339371e+00,\n",
      "               2.25578321e-04, -3.37413100e-03, -1.39061526e-02,\n",
      "              -6.57495097e-04, -6.31895025e-01, -1.13607948e-02,\n",
      "               9.76346363e-02,  6.96949733e-02,  2.40980318e-02,\n",
      "              -3.43187222e-05],\n",
      "             [-6.67511339e-03, -6.73469059e-01,  3.09846971e+00,\n",
      "               6.68346112e-04,  2.44610317e-02,  1.02810233e-02,\n",
      "               5.76060713e-03, -2.43383987e-01,  2.70818152e-02,\n",
      "               9.45265064e-02,  6.39133621e-02,  1.66576547e-02,\n",
      "               2.54184945e-05],\n",
      "             [ 1.21866393e-02, -4.12906413e-01,  2.63503047e+00,\n",
      "               6.34361103e-04,  1.50118728e-02,  3.53093024e-03,\n",
      "               5.54642430e-03,  3.78945115e-01,  1.58022626e-02,\n",
      "               6.34915355e-02,  3.75070096e-02,  1.69996882e-02,\n",
      "               2.54343340e-05],\n",
      "             [ 1.11054194e-02, -2.06560301e+00, -9.81201409e-01,\n",
      "               4.68830987e-04, -1.79185508e-03,  1.58571245e-02,\n",
      "               1.80699660e-03, -1.16665742e-01,  6.28891978e-02,\n",
      "               7.08689081e-02,  5.05658033e-02,  2.13804997e-02,\n",
      "               3.26455058e-05],\n",
      "             [-1.08198455e-01, -1.13857348e+00, -1.42689832e+00,\n",
      "               1.30425760e-03,  1.75206527e-03,  1.03799352e-02,\n",
      "               5.59424316e-03,  9.28684673e-02,  3.46064717e-02,\n",
      "               9.45546527e-02,  6.88324927e-02,  2.07847972e-02,\n",
      "               4.42879316e-05],\n",
      "             [ 6.99345404e-03, -1.83498309e+00, -3.41809444e-01,\n",
      "               3.96380054e-04,  1.10584140e-02, -2.46525043e-05,\n",
      "               9.58480268e-04,  4.43625712e-01,  3.44339807e-02,\n",
      "               9.26288804e-02,  6.01885639e-02,  1.98159859e-02,\n",
      "               3.33903369e-05],\n",
      "             [ 4.22453151e-02, -1.30364700e+00, -6.88855403e-01,\n",
      "               2.07997212e-03,  5.82303276e-02,  4.17975991e-03,\n",
      "               4.18859316e-03,  6.57121278e-01,  8.72695612e-03,\n",
      "               9.64446298e-03,  5.85310530e-02,  9.37234164e-03,\n",
      "               1.24320856e-04],\n",
      "             [ 3.79988678e-02,  1.77659146e+00,  1.26833942e+00,\n",
      "               1.84451315e-03,  4.91922588e-02, -1.25251822e-02,\n",
      "               9.29865854e-03, -2.34566375e-01,  2.78737372e-02,\n",
      "               1.23567186e-01,  7.70912791e-02,  2.78191075e-02,\n",
      "              -3.06050666e-06],\n",
      "             [-2.16650093e-01,  4.60736698e+00, -3.59577589e+00,\n",
      "               1.91305404e-03, -2.63056697e-02, -1.72164440e-02,\n",
      "              -8.74178376e-03,  6.56520250e-01, -7.11409021e-03,\n",
      "              -1.48487014e-01,  1.99401083e-02, -1.44244662e-02,\n",
      "              -2.22527733e-04],\n",
      "             [-6.97100199e-03,  1.14568709e+00, -2.68163562e+00,\n",
      "              -2.01169464e-03, -6.65050296e-03, -8.35802988e-03,\n",
      "               1.65234614e-03,  7.88432878e-01, -1.40890817e-02,\n",
      "              -3.63061599e-02,  1.73045185e-02, -1.30776114e-03,\n",
      "               2.00140846e-05],\n",
      "             [ 8.94363746e-03,  6.92564231e-01,  6.66928829e-01,\n",
      "              -3.09088852e-04,  1.43764369e-02,  1.52593345e-02,\n",
      "               3.34796848e-03,  6.80302445e-01, -1.11165439e-02,\n",
      "              -5.13007507e-03,  2.87872037e-02,  4.07654880e-03,\n",
      "               2.52559187e-05],\n",
      "             [ 1.19977550e-02, -1.08266342e+00,  3.49562657e+00,\n",
      "              -5.82672024e-04,  5.15025136e-04,  1.02264172e-02,\n",
      "               7.78645829e-03,  7.31417462e-01, -2.49199037e-02,\n",
      "               3.17909639e-02,  7.54448948e-02, -1.74004969e-03,\n",
      "               3.93804313e-05],\n",
      "             [ 1.24101096e-02, -1.40986088e+00,  8.68409817e-01,\n",
      "              -2.40615728e-04, -4.50697026e-03, -1.17440460e-03,\n",
      "              -6.11792032e-03,  8.47186996e-01,  3.05811533e-02,\n",
      "               4.29025305e-02,  4.21045605e-03, -1.04817666e-02,\n",
      "               1.13620584e-05],\n",
      "             [ 2.64367507e-02, -9.23070104e-01, -8.61523639e-02,\n",
      "               4.70670335e-04, -9.35235489e-04,  1.15057263e-02,\n",
      "              -5.55888495e-03,  8.85763904e-01,  1.07307583e-03,\n",
      "              -4.47943395e-02, -2.63391598e-02, -1.83564679e-02,\n",
      "              -5.60166709e-05],\n",
      "             [-9.15861169e-03,  9.25279433e-01, -2.42492785e+00,\n",
      "              -5.93151219e-03, -8.20446234e-02, -7.65945900e-02,\n",
      "              -2.37659433e-02,  1.22442525e+00, -2.03309485e-01,\n",
      "              -3.17954899e-01, -3.54929831e-01, -7.60602933e-02,\n",
      "              -4.60664565e-04],\n",
      "             [ 3.01899915e-02,  7.46548578e-01, -2.02169149e+00,\n",
      "              -2.31023984e-03, -3.47174931e-02,  1.54811683e-02,\n",
      "              -2.48832457e-02,  1.08646457e+00, -1.54261887e-01,\n",
      "              -3.28443141e-01, -1.83059156e-01, -6.45843751e-02,\n",
      "              -3.35254467e-04],\n",
      "             [-1.07426526e-02,  1.40251381e+00, -1.32431357e+00,\n",
      "              -1.58402834e-03, -5.05816531e-03, -6.54424892e-03,\n",
      "              -8.66470895e-03,  6.59895643e-01, -1.74840011e-02,\n",
      "              -4.37590675e-02, -3.91994873e-02, -1.37830328e-02,\n",
      "               1.96734633e-04],\n",
      "             [ 1.52049346e-02, -3.22023635e+00, -8.57791804e-01,\n",
      "              -4.46356007e-03, -8.97492033e-02, -1.02428725e-02,\n",
      "              -1.56272277e-02,  1.19916540e+00, -5.74238072e-02,\n",
      "              -3.41674096e-01, -2.71083144e-01, -8.43349905e-02,\n",
      "              -3.46886732e-04],\n",
      "             [ 7.46030813e-02, -1.13503274e+00, -1.19057924e-01,\n",
      "              -7.02690873e-03, -1.32321403e-01, -4.43489089e-02,\n",
      "              -2.73719229e-02,  1.18524439e+00, -1.15021286e-01,\n",
      "              -4.35569428e-01, -3.21724854e-01, -1.14457108e-01,\n",
      "              -9.72456309e-05],\n",
      "             [-4.85979028e-03, -1.72896312e+00,  3.04229083e+00,\n",
      "              -1.33317358e-03,  1.96477299e-03,  1.40083128e-02,\n",
      "               1.16984169e-02,  4.74214240e-01,  2.77491042e-02,\n",
      "              -1.93070296e-02,  4.29452272e-02,  7.56698589e-03,\n",
      "              -3.70811120e-05],\n",
      "             [ 3.47817667e-02, -7.04830008e-01,  2.09704777e+00,\n",
      "               1.98477625e-03,  3.88678564e-02,  4.58192667e-03,\n",
      "               1.30070543e-02, -1.38101339e-01,  7.19357851e-02,\n",
      "               1.87431218e-01,  1.17013181e-01,  5.05533409e-02,\n",
      "               9.49646451e-05],\n",
      "             [ 7.61022790e-03, -7.81820611e-01,  4.28678434e+00,\n",
      "               6.97647401e-04,  2.62666220e-02,  5.94223521e-03,\n",
      "               9.27218129e-03,  1.06180154e-01,  4.82730581e-02,\n",
      "               8.92963400e-02,  6.78393252e-02,  2.31055331e-02,\n",
      "               1.31160389e-04],\n",
      "             [ 8.78145136e-03,  8.74705580e-01,  3.11636383e-01,\n",
      "               2.88581649e-03,  3.70546359e-02,  1.89068920e-02,\n",
      "               1.27814670e-02,  2.37772289e-01,  3.28042581e-02,\n",
      "               1.03554456e-01,  7.27172377e-02,  2.29652380e-02,\n",
      "               2.12298902e-04],\n",
      "             [ 1.42620500e-02,  3.99494980e-01,  3.72647521e-03,\n",
      "               1.50140682e-03,  1.99889357e-02,  5.75777520e-03,\n",
      "               4.36927816e-03,  8.64826827e-02,  1.93212281e-02,\n",
      "               5.18975762e-02,  3.06797877e-02,  1.35722837e-02,\n",
      "               9.17697756e-05],\n",
      "             [ 4.01463329e-03,  2.32504830e-01, -3.58490713e-03,\n",
      "               1.30113522e-03,  2.43790149e-02,  9.37520553e-03,\n",
      "               4.39180289e-03,  1.01640628e-02,  1.31455294e-02,\n",
      "               4.47383462e-02,  2.43939625e-02,  1.23620403e-02,\n",
      "               5.52637713e-05],\n",
      "             [ 5.72970208e-03,  1.15194955e-02, -2.48078150e-03,\n",
      "               1.16422657e-03,  1.48450221e-02,  5.11743310e-03,\n",
      "               3.83889774e-03,  1.12766140e-02,  9.71142679e-03,\n",
      "               3.16193066e-02,  1.70592903e-02,  9.85902703e-03,\n",
      "               9.23812153e-05],\n",
      "             [ 9.78378730e-03,  2.00848105e-01, -2.60132263e-03,\n",
      "               8.14368226e-04,  8.64845392e-03,  5.33682597e-03,\n",
      "               3.78428352e-03,  3.97150452e-02,  1.36926401e-02,\n",
      "               3.88937089e-02,  1.94911470e-02,  9.22504243e-03,\n",
      "               1.02489337e-04],\n",
      "             [ 2.37022013e-03,  1.74616863e-04, -9.94784319e-04,\n",
      "               3.96397809e-04,  4.07324544e-03,  2.17367564e-03,\n",
      "               1.82134786e-03,  4.12981306e-03,  5.00548207e-03,\n",
      "               1.09457025e-02,  6.35867782e-03,  3.86376008e-03,\n",
      "               3.71945947e-05],\n",
      "             [ 7.93382034e-04,  5.30358171e-03,  7.29668334e-03,\n",
      "               3.01828356e-04,  2.53214512e-03,  7.38111950e-04,\n",
      "               4.94505359e-04,  3.56980575e-03,  2.80130386e-03,\n",
      "               1.16670946e-02,  6.83537355e-03,  2.15870620e-03,\n",
      "               3.19062666e-05],\n",
      "             [ 3.66552833e-04,  2.48243945e-03,  2.40024365e-02,\n",
      "               1.93963564e-05,  1.31650675e-03,  4.51492119e-04,\n",
      "               2.69063894e-04,  4.76457748e-03,  1.30465867e-03,\n",
      "               6.90669890e-03,  3.88711090e-03,  1.06627720e-03,\n",
      "               4.27340576e-06],\n",
      "             [ 3.62873377e-05,  3.78591245e-03,  1.61449547e-02,\n",
      "               6.14241952e-05,  7.58887133e-04,  3.50200792e-04,\n",
      "               2.18933283e-04,  5.34237533e-04,  4.89935656e-04,\n",
      "               1.74075415e-03,  1.86025005e-03,  6.75247328e-04,\n",
      "               4.76016517e-06]])\n"
     ]
    }
   ],
   "source": [
    "print(fittedModel.coefficientMatrix)"
   ]
  },
  {
   "cell_type": "code",
   "execution_count": 312,
   "metadata": {},
   "outputs": [
    {
     "name": "stdout",
     "output_type": "stream",
     "text": [
      "Coefficient matrix:\n",
      "Row count = 34\n",
      "Col count = 13\n"
     ]
    }
   ],
   "source": [
    "print('Coefficient matrix:\\nRow count = %s\\nCol count = %s' % (fittedModel.coefficientMatrix.numRows, fittedModel.coefficientMatrix.numCols))"
   ]
  },
  {
   "cell_type": "code",
   "execution_count": 313,
   "metadata": {},
   "outputs": [
    {
     "name": "stdout",
     "output_type": "stream",
     "text": [
      "Model:\n",
      "Num Classes = 34\n",
      "Num Features = 13\n"
     ]
    }
   ],
   "source": [
    "print('Model:\\nNum Classes = %s\\nNum Features = %s' % (fittedModel.numClasses, fittedModel.numFeatures))"
   ]
  },
  {
   "cell_type": "code",
   "execution_count": 315,
   "metadata": {},
   "outputs": [
    {
     "name": "stdout",
     "output_type": "stream",
     "text": [
      "Training \"primary_type\" factor level count = 34\n"
     ]
    }
   ],
   "source": [
    "print('Training \"primary_type\" factor level count = %s' % train.select('primary_type_indexed').distinct().count())"
   ]
  },
  {
   "cell_type": "markdown",
   "metadata": {},
   "source": [
    "So our `randomSplit` call to split train/test data sets took some primary types to only either of the two parts"
   ]
  },
  {
   "cell_type": "code",
   "execution_count": 304,
   "metadata": {},
   "outputs": [
    {
     "name": "stdout",
     "output_type": "stream",
     "text": [
      "+-----------------------------------------------------------+\n",
      "|features                                                   |\n",
      "+-----------------------------------------------------------+\n",
      "|[6.0,1.0,0.0,47.0,6.0,7.0,12.0,22.0,3.0,2.0,4.0,12.0,666.0]|\n",
      "|[0.0,1.0,0.0,3.0,11.0,1.0,0.0,22.0,20.0,3.0,4.0,9.0,207.0] |\n",
      "+-----------------------------------------------------------+\n",
      "only showing top 2 rows\n",
      "\n"
     ]
    }
   ],
   "source": [
    "vectorized_df_dates.select('features').show(2, truncate=False)"
   ]
  },
  {
   "cell_type": "code",
   "execution_count": 305,
   "metadata": {},
   "outputs": [
    {
     "data": {
      "text/plain": [
       "34"
      ]
     },
     "execution_count": 305,
     "metadata": {},
     "output_type": "execute_result"
    }
   ],
   "source": [
    "fittedModel.numClasses"
   ]
  },
  {
   "cell_type": "code",
   "execution_count": 306,
   "metadata": {},
   "outputs": [
    {
     "data": {
      "text/plain": [
       "13"
      ]
     },
     "execution_count": 306,
     "metadata": {},
     "output_type": "execute_result"
    }
   ],
   "source": [
    "fittedModel.numFeatures"
   ]
  },
  {
   "cell_type": "code",
   "execution_count": 310,
   "metadata": {},
   "outputs": [
    {
     "data": {
      "text/plain": [
       "34"
      ]
     },
     "execution_count": 310,
     "metadata": {},
     "output_type": "execute_result"
    }
   ],
   "source": [
    "train.select('primary_type_indexed').distinct().count()"
   ]
  },
  {
   "cell_type": "code",
   "execution_count": 308,
   "metadata": {},
   "outputs": [
    {
     "data": {
      "text/plain": [
       "35"
      ]
     },
     "execution_count": 308,
     "metadata": {},
     "output_type": "execute_result"
    }
   ],
   "source": [
    "df_dates.select('primary_type').distinct().count()"
   ]
  },
  {
   "cell_type": "code",
   "execution_count": 319,
   "metadata": {},
   "outputs": [
    {
     "data": {
      "text/plain": [
       "34"
      ]
     },
     "execution_count": 319,
     "metadata": {},
     "output_type": "execute_result"
    }
   ],
   "source": [
    "fittedModel.interceptVector.values.size"
   ]
  },
  {
   "cell_type": "code",
   "execution_count": 325,
   "metadata": {},
   "outputs": [
    {
     "name": "stdout",
     "output_type": "stream",
     "text": [
      "[2.4076404098261186, 2.103364362578621, 1.9929341195152075, 1.856519235686286, 1.785183328552469, 1.7394002582099917, 1.6946845838979945, 1.6435378460971013, 1.5952318826449745, 1.574191533434398, 1.5541384320595895, 1.5309415179749029, 1.5093348489812688, 1.4775256115961473, 1.4589034866578796, 1.438668259063765, 1.4377610508527037, 1.4007155167210597, 1.3894426189329336, 1.3794401697891199, 1.3668972103308483, 1.3541799249970468, 1.3471374714710196, 1.3328413543718285, 1.3261397319645094, 1.3174783543068809, 1.3117841063395541, 1.3008255832708844, 1.2891177380096643, 1.2822720014627018, 1.273735573497738, 1.267493206647417, 1.2628484087882659, 1.2586464489507425, 1.2553918734620977, 1.2513170108812994, 1.2470891291257582, 1.2445857937710563, 1.2403864623705698, 1.2379816385825997, 1.2347485017985986, 1.2313234837994902, 1.228570126216746, 1.2256428504557557, 1.22377186876409, 1.2216927787939897, 1.2205260251188486, 1.216153777143004, 1.214239485099999, 1.212790076045579, 1.21017177439653, 1.2087258906381892, 1.2057774065175495, 1.2048420327879128, 1.2026936880714123, 1.200618580171561, 1.1989499320345858, 1.1976462705879227, 1.1956692239208617, 1.1945206800926063, 1.1935650309715506, 1.1927548852644918, 1.192324429420579, 1.1915611176943577, 1.1899522943952214, 1.1892404001253092, 1.1881948277715955, 1.1875801442727214, 1.186987786096063, 1.1860363885017011, 1.1851415361766162, 1.184408922430957, 1.1837701782565433, 1.1832006335481484, 1.182527184502382, 1.1818808185806988, 1.1811161034556648, 1.17979210249149, 1.178906738679706, 1.1781185491424908, 1.1776426123440618, 1.1771046930980857, 1.176511239384415, 1.1757400401695803, 1.1748300137939858, 1.1742425213385561, 1.1734143984307577, 1.173035368591208, 1.172450092778686, 1.171721743805599, 1.1712775037032834, 1.1706946972103398, 1.1701740494291353, 1.1694997904077904, 1.1688967161693042, 1.1684977625547157, 1.1674712329985908, 1.1666292542207857, 1.1661084705751277, 1.165621297355974, 1.1653562039748602]\n",
      "\n",
      "Objective history size  101\n"
     ]
    }
   ],
   "source": [
    "print(model_summary.objectiveHistory)\n",
    "print()\n",
    "print('Objective history size ', len(model_summary.objectiveHistory))"
   ]
  },
  {
   "cell_type": "code",
   "execution_count": 328,
   "metadata": {},
   "outputs": [
    {
     "data": {
      "text/plain": [
       "<matplotlib.axes._subplots.AxesSubplot at 0x7ffb240bda20>"
      ]
     },
     "execution_count": 328,
     "metadata": {},
     "output_type": "execute_result"
    },
    {
     "data": {
      "image/png": "[encoded data removed]",
      "text/plain": [
       "<matplotlib.figure.Figure at 0x7ffb24150fd0>"
      ]
     },
     "metadata": {},
     "output_type": "display_data"
    }
   ],
   "source": [
    "sns.barplot(y=model_summary.objectiveHistory, x=list(range(len(model_summary.objectiveHistory))))"
   ]
  },
  {
   "cell_type": "code",
   "execution_count": 365,
   "metadata": {
    "scrolled": false
   },
   "outputs": [
    {
     "name": "stdout",
     "output_type": "stream",
     "text": [
      "{0.0: {'index': 0.0}, 1.0: {'index': 1.0}, 2.0: {'index': 2.0}, 3.0: {'index': 3.0}, 4.0: {'index': 4.0}, 5.0: {'index': 5.0}, 6.0: {'index': 6.0}, 7.0: {'index': 7.0}, 8.0: {'index': 8.0}, 9.0: {'index': 9.0}, 10.0: {'index': 10.0}, 11.0: {'index': 11.0}, 12.0: {'index': 12.0}, 13.0: {'index': 13.0}, 14.0: {'index': 14.0}, 15.0: {'index': 15.0}, 16.0: {'index': 16.0}, 17.0: {'index': 17.0}, 18.0: {'index': 18.0}, 19.0: {'index': 19.0}, 20.0: {'index': 20.0}, 21.0: {'index': 21.0}, 22.0: {'index': 22.0}, 23.0: {'index': 23.0}, 24.0: {'index': 24.0}, 25.0: {'index': 25.0}, 26.0: {'index': 26.0}, 27.0: {'index': 27.0}, 28.0: {'index': 28.0}, 29.0: {'index': 29.0}, 30.0: {'index': 30.0}, 31.0: {'index': 31.0}, 32.0: {'index': 32.0}, 33.0: {'index': 33.0}}\n"
     ]
    }
   ],
   "source": [
    "label_stats = {float(i):{'index': float(i)} for i in range(34)}\n",
    "print(label_stats)"
   ]
  },
  {
   "cell_type": "code",
   "execution_count": 366,
   "metadata": {},
   "outputs": [
    {
     "name": "stdout",
     "output_type": "stream",
     "text": [
      "False positive rate by label:\n"
     ]
    }
   ],
   "source": [
    "print(\"False positive rate by label:\")\n",
    "for i, rate in enumerate(model_summary.falsePositiveRateByLabel):\n",
    "    label_stats[i]['false_positive_rate'] = rate\n",
    "    \n",
    "for i, rate in enumerate(model_summary.truePositiveRateByLabel):\n",
    "    label_stats[i]['true_positive_rate'] = rate\n",
    "    \n",
    "for i, rate in enumerate(model_summary.precisionByLabel):\n",
    "    label_stats[i]['precision_rate'] = rate\n",
    "    \n",
    "for i, rate in enumerate(model_summary.recallByLabel):\n",
    "    label_stats[i]['recall_rate'] = rate\n",
    "    \n",
    "for i, rate in enumerate(model_summary.fMeasureByLabel()):\n",
    "    label_stats[i]['f_measure'] = rate"
   ]
  },
  {
   "cell_type": "code",
   "execution_count": 356,
   "metadata": {},
   "outputs": [],
   "source": [
    "train_rdd = train.select(['primary_type', 'primary_type_indexed']).distinct().orderBy('primary_type_indexed').rdd.map(lambda l: l.asDict()).collect()\n"
   ]
  },
  {
   "cell_type": "code",
   "execution_count": 367,
   "metadata": {},
   "outputs": [
    {
     "name": "stdout",
     "output_type": "stream",
     "text": [
      "{'primary_type': 'THEFT', 'primary_type_indexed': 0.0}\n",
      "{'primary_type': 'BATTERY', 'primary_type_indexed': 1.0}\n",
      "{'primary_type': 'CRIMINAL DAMAGE', 'primary_type_indexed': 2.0}\n",
      "{'primary_type': 'NARCOTICS', 'primary_type_indexed': 3.0}\n",
      "{'primary_type': 'OTHER OFFENSE', 'primary_type_indexed': 4.0}\n",
      "{'primary_type': 'ASSAULT', 'primary_type_indexed': 5.0}\n",
      "{'primary_type': 'BURGLARY', 'primary_type_indexed': 6.0}\n",
      "{'primary_type': 'MOTOR VEHICLE THEFT', 'primary_type_indexed': 7.0}\n",
      "{'primary_type': 'ROBBERY', 'primary_type_indexed': 8.0}\n",
      "{'primary_type': 'DECEPTIVE PRACTICE', 'primary_type_indexed': 9.0}\n",
      "{'primary_type': 'CRIMINAL TRESPASS', 'primary_type_indexed': 10.0}\n",
      "{'primary_type': 'PROSTITUTION', 'primary_type_indexed': 11.0}\n",
      "{'primary_type': 'WEAPONS VIOLATION', 'primary_type_indexed': 12.0}\n",
      "{'primary_type': 'PUBLIC PEACE VIOLATION', 'primary_type_indexed': 13.0}\n",
      "{'primary_type': 'OFFENSE INVOLVING CHILDREN', 'primary_type_indexed': 14.0}\n",
      "{'primary_type': 'CRIM SEXUAL ASSAULT', 'primary_type_indexed': 15.0}\n",
      "{'primary_type': 'SEX OFFENSE', 'primary_type_indexed': 16.0}\n",
      "{'primary_type': 'GAMBLING', 'primary_type_indexed': 17.0}\n",
      "{'primary_type': 'LIQUOR LAW VIOLATION', 'primary_type_indexed': 18.0}\n",
      "{'primary_type': 'INTERFERENCE WITH PUBLIC OFFICER', 'primary_type_indexed': 19.0}\n",
      "{'primary_type': 'ARSON', 'primary_type_indexed': 20.0}\n",
      "{'primary_type': 'HOMICIDE', 'primary_type_indexed': 21.0}\n",
      "{'primary_type': 'KIDNAPPING', 'primary_type_indexed': 22.0}\n",
      "{'primary_type': 'INTIMIDATION', 'primary_type_indexed': 23.0}\n",
      "{'primary_type': 'STALKING', 'primary_type_indexed': 24.0}\n",
      "{'primary_type': 'OBSCENITY', 'primary_type_indexed': 25.0}\n",
      "{'primary_type': 'PUBLIC INDECENCY', 'primary_type_indexed': 26.0}\n",
      "{'primary_type': 'OTHER NARCOTIC VIOLATION', 'primary_type_indexed': 27.0}\n",
      "{'primary_type': 'NON-CRIMINAL', 'primary_type_indexed': 28.0}\n",
      "{'primary_type': 'CONCEALED CARRY LICENSE VIOLATION', 'primary_type_indexed': 29.0}\n",
      "{'primary_type': 'NON - CRIMINAL', 'primary_type_indexed': 30.0}\n",
      "{'primary_type': 'HUMAN TRAFFICKING', 'primary_type_indexed': 31.0}\n",
      "{'primary_type': 'RITUALISM', 'primary_type_indexed': 32.0}\n",
      "{'primary_type': 'NON-CRIMINAL (SUBJECT SPECIFIED)', 'primary_type_indexed': 33.0}\n"
     ]
    }
   ],
   "source": [
    "for l in train_rdd:\n",
    "    print(l)\n",
    "    label_stats[l['primary_type_indexed']]['primary_type'] = l['primary_type']"
   ]
  },
  {
   "cell_type": "code",
   "execution_count": 371,
   "metadata": {},
   "outputs": [],
   "source": [
    "rates_pddf = pd.DataFrame(list(label_stats.values()))"
   ]
  },
  {
   "cell_type": "code",
   "execution_count": 396,
   "metadata": {},
   "outputs": [],
   "source": [
    "rates_pddf = rates_pddf.sort_values(by='precision_rate', ascending=False)"
   ]
  },
  {
   "cell_type": "markdown",
   "metadata": {},
   "source": [
    "#### Why does this model seem to be so good at predicting theft? (TODO)"
   ]
  },
  {
   "cell_type": "code",
   "execution_count": 397,
   "metadata": {},
   "outputs": [
    {
     "data": {
      "text/html": [
       "<div>\n",
       "<style scoped>\n",
       "    .dataframe tbody tr th:only-of-type {\n",
       "        vertical-align: middle;\n",
       "    }\n",
       "\n",
       "    .dataframe tbody tr th {\n",
       "        vertical-align: top;\n",
       "    }\n",
       "\n",
       "    .dataframe thead th {\n",
       "        text-align: right;\n",
       "    }\n",
       "</style>\n",
       "<table border=\"1\" class=\"dataframe\">\n",
       "  <thead>\n",
       "    <tr style=\"text-align: right;\">\n",
       "      <th></th>\n",
       "      <th>f_measure</th>\n",
       "      <th>false_positive_rate</th>\n",
       "      <th>index</th>\n",
       "      <th>precision_rate</th>\n",
       "      <th>primary_type</th>\n",
       "      <th>recall_rate</th>\n",
       "      <th>true_positive_rate</th>\n",
       "    </tr>\n",
       "  </thead>\n",
       "  <tbody>\n",
       "    <tr>\n",
       "      <th>0</th>\n",
       "      <td>1.000000</td>\n",
       "      <td>0.000000</td>\n",
       "      <td>0.0</td>\n",
       "      <td>1.000000</td>\n",
       "      <td>THEFT</td>\n",
       "      <td>1.000000</td>\n",
       "      <td>1.000000</td>\n",
       "    </tr>\n",
       "    <tr>\n",
       "      <th>14</th>\n",
       "      <td>0.432843</td>\n",
       "      <td>0.000941</td>\n",
       "      <td>14.0</td>\n",
       "      <td>0.691436</td>\n",
       "      <td>OFFENSE INVOLVING CHILDREN</td>\n",
       "      <td>0.315025</td>\n",
       "      <td>0.315025</td>\n",
       "    </tr>\n",
       "    <tr>\n",
       "      <th>3</th>\n",
       "      <td>0.771000</td>\n",
       "      <td>0.068760</td>\n",
       "      <td>3.0</td>\n",
       "      <td>0.639363</td>\n",
       "      <td>NARCOTICS</td>\n",
       "      <td>0.970897</td>\n",
       "      <td>0.970897</td>\n",
       "    </tr>\n",
       "    <tr>\n",
       "      <th>6</th>\n",
       "      <td>0.694052</td>\n",
       "      <td>0.037359</td>\n",
       "      <td>6.0</td>\n",
       "      <td>0.590063</td>\n",
       "      <td>BURGLARY</td>\n",
       "      <td>0.842537</td>\n",
       "      <td>0.842537</td>\n",
       "    </tr>\n",
       "    <tr>\n",
       "      <th>2</th>\n",
       "      <td>0.660851</td>\n",
       "      <td>0.079295</td>\n",
       "      <td>2.0</td>\n",
       "      <td>0.567407</td>\n",
       "      <td>CRIMINAL DAMAGE</td>\n",
       "      <td>0.791139</td>\n",
       "      <td>0.791139</td>\n",
       "    </tr>\n",
       "    <tr>\n",
       "      <th>1</th>\n",
       "      <td>0.453564</td>\n",
       "      <td>0.083041</td>\n",
       "      <td>1.0</td>\n",
       "      <td>0.517437</td>\n",
       "      <td>BATTERY</td>\n",
       "      <td>0.403727</td>\n",
       "      <td>0.403727</td>\n",
       "    </tr>\n",
       "    <tr>\n",
       "      <th>7</th>\n",
       "      <td>0.535707</td>\n",
       "      <td>0.025021</td>\n",
       "      <td>7.0</td>\n",
       "      <td>0.517173</td>\n",
       "      <td>MOTOR VEHICLE THEFT</td>\n",
       "      <td>0.555620</td>\n",
       "      <td>0.555620</td>\n",
       "    </tr>\n",
       "    <tr>\n",
       "      <th>18</th>\n",
       "      <td>0.348696</td>\n",
       "      <td>0.000714</td>\n",
       "      <td>18.0</td>\n",
       "      <td>0.452954</td>\n",
       "      <td>LIQUOR LAW VIOLATION</td>\n",
       "      <td>0.283453</td>\n",
       "      <td>0.283453</td>\n",
       "    </tr>\n",
       "    <tr>\n",
       "      <th>11</th>\n",
       "      <td>0.566450</td>\n",
       "      <td>0.011726</td>\n",
       "      <td>11.0</td>\n",
       "      <td>0.431527</td>\n",
       "      <td>PROSTITUTION</td>\n",
       "      <td>0.824125</td>\n",
       "      <td>0.824125</td>\n",
       "    </tr>\n",
       "    <tr>\n",
       "      <th>17</th>\n",
       "      <td>0.469533</td>\n",
       "      <td>0.001852</td>\n",
       "      <td>17.0</td>\n",
       "      <td>0.416885</td>\n",
       "      <td>GAMBLING</td>\n",
       "      <td>0.537402</td>\n",
       "      <td>0.537402</td>\n",
       "    </tr>\n",
       "    <tr>\n",
       "      <th>4</th>\n",
       "      <td>0.045514</td>\n",
       "      <td>0.002276</td>\n",
       "      <td>4.0</td>\n",
       "      <td>0.410242</td>\n",
       "      <td>OTHER OFFENSE</td>\n",
       "      <td>0.024093</td>\n",
       "      <td>0.024093</td>\n",
       "    </tr>\n",
       "    <tr>\n",
       "      <th>10</th>\n",
       "      <td>0.215583</td>\n",
       "      <td>0.006262</td>\n",
       "      <td>10.0</td>\n",
       "      <td>0.410169</td>\n",
       "      <td>CRIMINAL TRESPASS</td>\n",
       "      <td>0.146217</td>\n",
       "      <td>0.146217</td>\n",
       "    </tr>\n",
       "    <tr>\n",
       "      <th>21</th>\n",
       "      <td>0.303626</td>\n",
       "      <td>0.000434</td>\n",
       "      <td>21.0</td>\n",
       "      <td>0.396214</td>\n",
       "      <td>HOMICIDE</td>\n",
       "      <td>0.246114</td>\n",
       "      <td>0.246114</td>\n",
       "    </tr>\n",
       "    <tr>\n",
       "      <th>13</th>\n",
       "      <td>0.031158</td>\n",
       "      <td>0.000194</td>\n",
       "      <td>13.0</td>\n",
       "      <td>0.389658</td>\n",
       "      <td>PUBLIC PEACE VIOLATION</td>\n",
       "      <td>0.016228</td>\n",
       "      <td>0.016228</td>\n",
       "    </tr>\n",
       "    <tr>\n",
       "      <th>9</th>\n",
       "      <td>0.410013</td>\n",
       "      <td>0.027827</td>\n",
       "      <td>9.0</td>\n",
       "      <td>0.376070</td>\n",
       "      <td>DECEPTIVE PRACTICE</td>\n",
       "      <td>0.450692</td>\n",
       "      <td>0.450692</td>\n",
       "    </tr>\n",
       "    <tr>\n",
       "      <th>5</th>\n",
       "      <td>0.360216</td>\n",
       "      <td>0.037348</td>\n",
       "      <td>5.0</td>\n",
       "      <td>0.374041</td>\n",
       "      <td>ASSAULT</td>\n",
       "      <td>0.347376</td>\n",
       "      <td>0.347376</td>\n",
       "    </tr>\n",
       "    <tr>\n",
       "      <th>8</th>\n",
       "      <td>0.291963</td>\n",
       "      <td>0.023245</td>\n",
       "      <td>8.0</td>\n",
       "      <td>0.315355</td>\n",
       "      <td>ROBBERY</td>\n",
       "      <td>0.271801</td>\n",
       "      <td>0.271801</td>\n",
       "    </tr>\n",
       "    <tr>\n",
       "      <th>12</th>\n",
       "      <td>0.264141</td>\n",
       "      <td>0.005356</td>\n",
       "      <td>12.0</td>\n",
       "      <td>0.302200</td>\n",
       "      <td>WEAPONS VIOLATION</td>\n",
       "      <td>0.234597</td>\n",
       "      <td>0.234597</td>\n",
       "    </tr>\n",
       "    <tr>\n",
       "      <th>20</th>\n",
       "      <td>0.279198</td>\n",
       "      <td>0.002067</td>\n",
       "      <td>20.0</td>\n",
       "      <td>0.223772</td>\n",
       "      <td>ARSON</td>\n",
       "      <td>0.371121</td>\n",
       "      <td>0.371121</td>\n",
       "    </tr>\n",
       "    <tr>\n",
       "      <th>15</th>\n",
       "      <td>0.022451</td>\n",
       "      <td>0.000322</td>\n",
       "      <td>15.0</td>\n",
       "      <td>0.127900</td>\n",
       "      <td>CRIM SEXUAL ASSAULT</td>\n",
       "      <td>0.012305</td>\n",
       "      <td>0.012305</td>\n",
       "    </tr>\n",
       "    <tr>\n",
       "      <th>16</th>\n",
       "      <td>0.000643</td>\n",
       "      <td>0.000028</td>\n",
       "      <td>16.0</td>\n",
       "      <td>0.039683</td>\n",
       "      <td>SEX OFFENSE</td>\n",
       "      <td>0.000324</td>\n",
       "      <td>0.000324</td>\n",
       "    </tr>\n",
       "    <tr>\n",
       "      <th>27</th>\n",
       "      <td>0.000000</td>\n",
       "      <td>0.000000</td>\n",
       "      <td>27.0</td>\n",
       "      <td>0.000000</td>\n",
       "      <td>OTHER NARCOTIC VIOLATION</td>\n",
       "      <td>0.000000</td>\n",
       "      <td>0.000000</td>\n",
       "    </tr>\n",
       "    <tr>\n",
       "      <th>32</th>\n",
       "      <td>0.000000</td>\n",
       "      <td>0.000000</td>\n",
       "      <td>32.0</td>\n",
       "      <td>0.000000</td>\n",
       "      <td>RITUALISM</td>\n",
       "      <td>0.000000</td>\n",
       "      <td>0.000000</td>\n",
       "    </tr>\n",
       "    <tr>\n",
       "      <th>31</th>\n",
       "      <td>0.000000</td>\n",
       "      <td>0.000000</td>\n",
       "      <td>31.0</td>\n",
       "      <td>0.000000</td>\n",
       "      <td>HUMAN TRAFFICKING</td>\n",
       "      <td>0.000000</td>\n",
       "      <td>0.000000</td>\n",
       "    </tr>\n",
       "    <tr>\n",
       "      <th>30</th>\n",
       "      <td>0.000000</td>\n",
       "      <td>0.000000</td>\n",
       "      <td>30.0</td>\n",
       "      <td>0.000000</td>\n",
       "      <td>NON - CRIMINAL</td>\n",
       "      <td>0.000000</td>\n",
       "      <td>0.000000</td>\n",
       "    </tr>\n",
       "    <tr>\n",
       "      <th>29</th>\n",
       "      <td>0.000000</td>\n",
       "      <td>0.000000</td>\n",
       "      <td>29.0</td>\n",
       "      <td>0.000000</td>\n",
       "      <td>CONCEALED CARRY LICENSE VIOLATION</td>\n",
       "      <td>0.000000</td>\n",
       "      <td>0.000000</td>\n",
       "    </tr>\n",
       "    <tr>\n",
       "      <th>28</th>\n",
       "      <td>0.000000</td>\n",
       "      <td>0.000000</td>\n",
       "      <td>28.0</td>\n",
       "      <td>0.000000</td>\n",
       "      <td>NON-CRIMINAL</td>\n",
       "      <td>0.000000</td>\n",
       "      <td>0.000000</td>\n",
       "    </tr>\n",
       "    <tr>\n",
       "      <th>22</th>\n",
       "      <td>0.000000</td>\n",
       "      <td>0.000000</td>\n",
       "      <td>22.0</td>\n",
       "      <td>0.000000</td>\n",
       "      <td>KIDNAPPING</td>\n",
       "      <td>0.000000</td>\n",
       "      <td>0.000000</td>\n",
       "    </tr>\n",
       "    <tr>\n",
       "      <th>26</th>\n",
       "      <td>0.000000</td>\n",
       "      <td>0.000000</td>\n",
       "      <td>26.0</td>\n",
       "      <td>0.000000</td>\n",
       "      <td>PUBLIC INDECENCY</td>\n",
       "      <td>0.000000</td>\n",
       "      <td>0.000000</td>\n",
       "    </tr>\n",
       "    <tr>\n",
       "      <th>25</th>\n",
       "      <td>0.000000</td>\n",
       "      <td>0.000000</td>\n",
       "      <td>25.0</td>\n",
       "      <td>0.000000</td>\n",
       "      <td>OBSCENITY</td>\n",
       "      <td>0.000000</td>\n",
       "      <td>0.000000</td>\n",
       "    </tr>\n",
       "    <tr>\n",
       "      <th>24</th>\n",
       "      <td>0.000000</td>\n",
       "      <td>0.000000</td>\n",
       "      <td>24.0</td>\n",
       "      <td>0.000000</td>\n",
       "      <td>STALKING</td>\n",
       "      <td>0.000000</td>\n",
       "      <td>0.000000</td>\n",
       "    </tr>\n",
       "    <tr>\n",
       "      <th>23</th>\n",
       "      <td>0.000000</td>\n",
       "      <td>0.000000</td>\n",
       "      <td>23.0</td>\n",
       "      <td>0.000000</td>\n",
       "      <td>INTIMIDATION</td>\n",
       "      <td>0.000000</td>\n",
       "      <td>0.000000</td>\n",
       "    </tr>\n",
       "    <tr>\n",
       "      <th>19</th>\n",
       "      <td>0.000000</td>\n",
       "      <td>0.000000</td>\n",
       "      <td>19.0</td>\n",
       "      <td>0.000000</td>\n",
       "      <td>INTERFERENCE WITH PUBLIC OFFICER</td>\n",
       "      <td>0.000000</td>\n",
       "      <td>0.000000</td>\n",
       "    </tr>\n",
       "    <tr>\n",
       "      <th>33</th>\n",
       "      <td>0.000000</td>\n",
       "      <td>0.000000</td>\n",
       "      <td>33.0</td>\n",
       "      <td>0.000000</td>\n",
       "      <td>NON-CRIMINAL (SUBJECT SPECIFIED)</td>\n",
       "      <td>0.000000</td>\n",
       "      <td>0.000000</td>\n",
       "    </tr>\n",
       "  </tbody>\n",
       "</table>\n",
       "</div>"
      ],
      "text/plain": [
       "    f_measure  false_positive_rate  index  precision_rate  \\\n",
       "0    1.000000             0.000000    0.0        1.000000   \n",
       "14   0.432843             0.000941   14.0        0.691436   \n",
       "3    0.771000             0.068760    3.0        0.639363   \n",
       "6    0.694052             0.037359    6.0        0.590063   \n",
       "2    0.660851             0.079295    2.0        0.567407   \n",
       "1    0.453564             0.083041    1.0        0.517437   \n",
       "7    0.535707             0.025021    7.0        0.517173   \n",
       "18   0.348696             0.000714   18.0        0.452954   \n",
       "11   0.566450             0.011726   11.0        0.431527   \n",
       "17   0.469533             0.001852   17.0        0.416885   \n",
       "4    0.045514             0.002276    4.0        0.410242   \n",
       "10   0.215583             0.006262   10.0        0.410169   \n",
       "21   0.303626             0.000434   21.0        0.396214   \n",
       "13   0.031158             0.000194   13.0        0.389658   \n",
       "9    0.410013             0.027827    9.0        0.376070   \n",
       "5    0.360216             0.037348    5.0        0.374041   \n",
       "8    0.291963             0.023245    8.0        0.315355   \n",
       "12   0.264141             0.005356   12.0        0.302200   \n",
       "20   0.279198             0.002067   20.0        0.223772   \n",
       "15   0.022451             0.000322   15.0        0.127900   \n",
       "16   0.000643             0.000028   16.0        0.039683   \n",
       "27   0.000000             0.000000   27.0        0.000000   \n",
       "32   0.000000             0.000000   32.0        0.000000   \n",
       "31   0.000000             0.000000   31.0        0.000000   \n",
       "30   0.000000             0.000000   30.0        0.000000   \n",
       "29   0.000000             0.000000   29.0        0.000000   \n",
       "28   0.000000             0.000000   28.0        0.000000   \n",
       "22   0.000000             0.000000   22.0        0.000000   \n",
       "26   0.000000             0.000000   26.0        0.000000   \n",
       "25   0.000000             0.000000   25.0        0.000000   \n",
       "24   0.000000             0.000000   24.0        0.000000   \n",
       "23   0.000000             0.000000   23.0        0.000000   \n",
       "19   0.000000             0.000000   19.0        0.000000   \n",
       "33   0.000000             0.000000   33.0        0.000000   \n",
       "\n",
       "                         primary_type  recall_rate  true_positive_rate  \n",
       "0                               THEFT     1.000000            1.000000  \n",
       "14         OFFENSE INVOLVING CHILDREN     0.315025            0.315025  \n",
       "3                           NARCOTICS     0.970897            0.970897  \n",
       "6                            BURGLARY     0.842537            0.842537  \n",
       "2                     CRIMINAL DAMAGE     0.791139            0.791139  \n",
       "1                             BATTERY     0.403727            0.403727  \n",
       "7                 MOTOR VEHICLE THEFT     0.555620            0.555620  \n",
       "18               LIQUOR LAW VIOLATION     0.283453            0.283453  \n",
       "11                       PROSTITUTION     0.824125            0.824125  \n",
       "17                           GAMBLING     0.537402            0.537402  \n",
       "4                       OTHER OFFENSE     0.024093            0.024093  \n",
       "10                  CRIMINAL TRESPASS     0.146217            0.146217  \n",
       "21                           HOMICIDE     0.246114            0.246114  \n",
       "13             PUBLIC PEACE VIOLATION     0.016228            0.016228  \n",
       "9                  DECEPTIVE PRACTICE     0.450692            0.450692  \n",
       "5                             ASSAULT     0.347376            0.347376  \n",
       "8                             ROBBERY     0.271801            0.271801  \n",
       "12                  WEAPONS VIOLATION     0.234597            0.234597  \n",
       "20                              ARSON     0.371121            0.371121  \n",
       "15                CRIM SEXUAL ASSAULT     0.012305            0.012305  \n",
       "16                        SEX OFFENSE     0.000324            0.000324  \n",
       "27           OTHER NARCOTIC VIOLATION     0.000000            0.000000  \n",
       "32                          RITUALISM     0.000000            0.000000  \n",
       "31                  HUMAN TRAFFICKING     0.000000            0.000000  \n",
       "30                     NON - CRIMINAL     0.000000            0.000000  \n",
       "29  CONCEALED CARRY LICENSE VIOLATION     0.000000            0.000000  \n",
       "28                       NON-CRIMINAL     0.000000            0.000000  \n",
       "22                         KIDNAPPING     0.000000            0.000000  \n",
       "26                   PUBLIC INDECENCY     0.000000            0.000000  \n",
       "25                          OBSCENITY     0.000000            0.000000  \n",
       "24                           STALKING     0.000000            0.000000  \n",
       "23                       INTIMIDATION     0.000000            0.000000  \n",
       "19   INTERFERENCE WITH PUBLIC OFFICER     0.000000            0.000000  \n",
       "33   NON-CRIMINAL (SUBJECT SPECIFIED)     0.000000            0.000000  "
      ]
     },
     "execution_count": 397,
     "metadata": {},
     "output_type": "execute_result"
    }
   ],
   "source": [
    "rates_pddf"
   ]
  },
  {
   "cell_type": "markdown",
   "metadata": {},
   "source": [
    "## TODO:\n",
    "\n",
    " * Run the model on the test dataset"
   ]
  },
  {
   "cell_type": "code",
   "execution_count": null,
   "metadata": {},
   "outputs": [],
   "source": []
  }
 ],
 "metadata": {
  "kernelspec": {
   "display_name": "Python 3",
   "language": "python",
   "name": "python3"
  },
  "language_info": {
   "codemirror_mode": {
    "name": "ipython",
    "version": 3
   },
   "file_extension": ".py",
   "mimetype": "text/x-python",
   "name": "python",
   "nbconvert_exporter": "python",
   "pygments_lexer": "ipython3",
   "version": "3.6.4"
  }
 },
 "nbformat": 4,
 "nbformat_minor": 2
}
